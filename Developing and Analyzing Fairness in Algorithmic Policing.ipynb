{
  "cells": [
    {
      "cell_type": "markdown",
      "metadata": {
        "id": "kA_PI2_CftYa"
      },
      "source": [
        "# Developing and Analyzing Fairness in Algorithmic Policing\n",
        "\n",
        "Law enforcement agencies in the United States use predictive policing algorithms to analyze past crime data and identify high-risk areas where officers are directed to patrol during each shift. This project aims to develop a predictive algorithm using a US criminological dataset and to identify and mitigate biases that may disproportionately affect marginalized communities. The focus is on evaluating the model's performance and fairness both before and after implementing bias mitigation techniques. By addressing these biases, the goal is to understand how a more equitable crime prediction model that provides unbiased insights and predictions can be developed, ultimately contributing to fairer decision-making processes in algorithmic policing.\n",
        "\n",
        "---\n",
        "\n"
      ]
    },
    {
      "cell_type": "markdown",
      "metadata": {
        "id": "fZ1lhyIof8x_"
      },
      "source": [
        "### Imports"
      ]
    },
    {
      "cell_type": "code",
      "execution_count": 98,
      "metadata": {
        "id": "m2G1Ak8VLhq3"
      },
      "outputs": [],
      "source": [
        "import pandas as pd\n",
        "from ucimlrepo import fetch_ucirepo\n",
        "import numpy as np\n",
        "from sklearn.metrics import f1_score, accuracy_score, precision_score, recall_score\n",
        "\n",
        "\n",
        "random_state = 42"
      ]
    },
    {
      "cell_type": "code",
      "execution_count": 99,
      "metadata": {
        "colab": {
          "base_uri": "https://localhost:8080/"
        },
        "id": "4WSMyXndCvUi",
        "outputId": "29aade9f-5815-48a2-a689-df83eb47db37"
      },
      "outputs": [
        {
          "name": "stdout",
          "output_type": "stream",
          "text": [
            "Requirement already satisfied: ucimlrepo in /opt/anaconda3/lib/python3.11/site-packages (0.0.7)\n",
            "Requirement already satisfied: pandas>=1.0.0 in /opt/anaconda3/lib/python3.11/site-packages (from ucimlrepo) (2.1.4)\n",
            "Requirement already satisfied: certifi>=2020.12.5 in /opt/anaconda3/lib/python3.11/site-packages (from ucimlrepo) (2024.2.2)\n",
            "Requirement already satisfied: numpy<2,>=1.23.2 in /opt/anaconda3/lib/python3.11/site-packages (from pandas>=1.0.0->ucimlrepo) (1.26.4)\n",
            "Requirement already satisfied: python-dateutil>=2.8.2 in /opt/anaconda3/lib/python3.11/site-packages (from pandas>=1.0.0->ucimlrepo) (2.8.2)\n",
            "Requirement already satisfied: pytz>=2020.1 in /opt/anaconda3/lib/python3.11/site-packages (from pandas>=1.0.0->ucimlrepo) (2023.3.post1)\n",
            "Requirement already satisfied: tzdata>=2022.1 in /opt/anaconda3/lib/python3.11/site-packages (from pandas>=1.0.0->ucimlrepo) (2023.3)\n",
            "Requirement already satisfied: six>=1.5 in /opt/anaconda3/lib/python3.11/site-packages (from python-dateutil>=2.8.2->pandas>=1.0.0->ucimlrepo) (1.16.0)\n"
          ]
        }
      ],
      "source": [
        "! pip install ucimlrepo"
      ]
    },
    {
      "cell_type": "markdown",
      "metadata": {
        "id": "OojTdY9JgAEp"
      },
      "source": [
        "### Data"
      ]
    },
    {
      "cell_type": "code",
      "execution_count": 100,
      "metadata": {
        "colab": {
          "base_uri": "https://localhost:8080/",
          "height": 273
        },
        "id": "r0gUIozkMiL1",
        "outputId": "06ae1a49-d0c8-4418-a14e-19c8368a0fc4"
      },
      "outputs": [
        {
          "name": "stdout",
          "output_type": "stream",
          "text": [
            "Shape of df: (1994, 128)\n"
          ]
        },
        {
          "data": {
            "text/html": [
              "<div>\n",
              "<style scoped>\n",
              "    .dataframe tbody tr th:only-of-type {\n",
              "        vertical-align: middle;\n",
              "    }\n",
              "\n",
              "    .dataframe tbody tr th {\n",
              "        vertical-align: top;\n",
              "    }\n",
              "\n",
              "    .dataframe thead th {\n",
              "        text-align: right;\n",
              "    }\n",
              "</style>\n",
              "<table border=\"1\" class=\"dataframe\">\n",
              "  <thead>\n",
              "    <tr style=\"text-align: right;\">\n",
              "      <th></th>\n",
              "      <th>state</th>\n",
              "      <th>county</th>\n",
              "      <th>community</th>\n",
              "      <th>communityname</th>\n",
              "      <th>fold</th>\n",
              "      <th>population</th>\n",
              "      <th>householdsize</th>\n",
              "      <th>racepctblack</th>\n",
              "      <th>racePctWhite</th>\n",
              "      <th>racePctAsian</th>\n",
              "      <th>...</th>\n",
              "      <th>LandArea</th>\n",
              "      <th>PopDens</th>\n",
              "      <th>PctUsePubTrans</th>\n",
              "      <th>PolicCars</th>\n",
              "      <th>PolicOperBudg</th>\n",
              "      <th>LemasPctPolicOnPatr</th>\n",
              "      <th>LemasGangUnitDeploy</th>\n",
              "      <th>LemasPctOfficDrugUn</th>\n",
              "      <th>PolicBudgPerPop</th>\n",
              "      <th>ViolentCrimesPerPop</th>\n",
              "    </tr>\n",
              "  </thead>\n",
              "  <tbody>\n",
              "    <tr>\n",
              "      <th>0</th>\n",
              "      <td>8</td>\n",
              "      <td>?</td>\n",
              "      <td>?</td>\n",
              "      <td>Lakewoodcity</td>\n",
              "      <td>1</td>\n",
              "      <td>0.19</td>\n",
              "      <td>0.33</td>\n",
              "      <td>0.02</td>\n",
              "      <td>0.90</td>\n",
              "      <td>0.12</td>\n",
              "      <td>...</td>\n",
              "      <td>0.12</td>\n",
              "      <td>0.26</td>\n",
              "      <td>0.20</td>\n",
              "      <td>0.06</td>\n",
              "      <td>0.04</td>\n",
              "      <td>0.9</td>\n",
              "      <td>0.5</td>\n",
              "      <td>0.32</td>\n",
              "      <td>0.14</td>\n",
              "      <td>0.20</td>\n",
              "    </tr>\n",
              "    <tr>\n",
              "      <th>1</th>\n",
              "      <td>53</td>\n",
              "      <td>?</td>\n",
              "      <td>?</td>\n",
              "      <td>Tukwilacity</td>\n",
              "      <td>1</td>\n",
              "      <td>0.00</td>\n",
              "      <td>0.16</td>\n",
              "      <td>0.12</td>\n",
              "      <td>0.74</td>\n",
              "      <td>0.45</td>\n",
              "      <td>...</td>\n",
              "      <td>0.02</td>\n",
              "      <td>0.12</td>\n",
              "      <td>0.45</td>\n",
              "      <td>?</td>\n",
              "      <td>?</td>\n",
              "      <td>?</td>\n",
              "      <td>?</td>\n",
              "      <td>0.00</td>\n",
              "      <td>?</td>\n",
              "      <td>0.67</td>\n",
              "    </tr>\n",
              "    <tr>\n",
              "      <th>2</th>\n",
              "      <td>24</td>\n",
              "      <td>?</td>\n",
              "      <td>?</td>\n",
              "      <td>Aberdeentown</td>\n",
              "      <td>1</td>\n",
              "      <td>0.00</td>\n",
              "      <td>0.42</td>\n",
              "      <td>0.49</td>\n",
              "      <td>0.56</td>\n",
              "      <td>0.17</td>\n",
              "      <td>...</td>\n",
              "      <td>0.01</td>\n",
              "      <td>0.21</td>\n",
              "      <td>0.02</td>\n",
              "      <td>?</td>\n",
              "      <td>?</td>\n",
              "      <td>?</td>\n",
              "      <td>?</td>\n",
              "      <td>0.00</td>\n",
              "      <td>?</td>\n",
              "      <td>0.43</td>\n",
              "    </tr>\n",
              "    <tr>\n",
              "      <th>3</th>\n",
              "      <td>34</td>\n",
              "      <td>5</td>\n",
              "      <td>81440</td>\n",
              "      <td>Willingborotownship</td>\n",
              "      <td>1</td>\n",
              "      <td>0.04</td>\n",
              "      <td>0.77</td>\n",
              "      <td>1.00</td>\n",
              "      <td>0.08</td>\n",
              "      <td>0.12</td>\n",
              "      <td>...</td>\n",
              "      <td>0.02</td>\n",
              "      <td>0.39</td>\n",
              "      <td>0.28</td>\n",
              "      <td>?</td>\n",
              "      <td>?</td>\n",
              "      <td>?</td>\n",
              "      <td>?</td>\n",
              "      <td>0.00</td>\n",
              "      <td>?</td>\n",
              "      <td>0.12</td>\n",
              "    </tr>\n",
              "    <tr>\n",
              "      <th>4</th>\n",
              "      <td>42</td>\n",
              "      <td>95</td>\n",
              "      <td>6096</td>\n",
              "      <td>Bethlehemtownship</td>\n",
              "      <td>1</td>\n",
              "      <td>0.01</td>\n",
              "      <td>0.55</td>\n",
              "      <td>0.02</td>\n",
              "      <td>0.95</td>\n",
              "      <td>0.09</td>\n",
              "      <td>...</td>\n",
              "      <td>0.04</td>\n",
              "      <td>0.09</td>\n",
              "      <td>0.02</td>\n",
              "      <td>?</td>\n",
              "      <td>?</td>\n",
              "      <td>?</td>\n",
              "      <td>?</td>\n",
              "      <td>0.00</td>\n",
              "      <td>?</td>\n",
              "      <td>0.03</td>\n",
              "    </tr>\n",
              "  </tbody>\n",
              "</table>\n",
              "<p>5 rows × 128 columns</p>\n",
              "</div>"
            ],
            "text/plain": [
              "   state county community        communityname  fold  population  \\\n",
              "0      8      ?         ?         Lakewoodcity     1        0.19   \n",
              "1     53      ?         ?          Tukwilacity     1        0.00   \n",
              "2     24      ?         ?         Aberdeentown     1        0.00   \n",
              "3     34      5     81440  Willingborotownship     1        0.04   \n",
              "4     42     95      6096    Bethlehemtownship     1        0.01   \n",
              "\n",
              "   householdsize  racepctblack  racePctWhite  racePctAsian  ...  LandArea  \\\n",
              "0           0.33          0.02          0.90          0.12  ...      0.12   \n",
              "1           0.16          0.12          0.74          0.45  ...      0.02   \n",
              "2           0.42          0.49          0.56          0.17  ...      0.01   \n",
              "3           0.77          1.00          0.08          0.12  ...      0.02   \n",
              "4           0.55          0.02          0.95          0.09  ...      0.04   \n",
              "\n",
              "   PopDens  PctUsePubTrans  PolicCars  PolicOperBudg  LemasPctPolicOnPatr  \\\n",
              "0     0.26            0.20       0.06           0.04                  0.9   \n",
              "1     0.12            0.45          ?              ?                    ?   \n",
              "2     0.21            0.02          ?              ?                    ?   \n",
              "3     0.39            0.28          ?              ?                    ?   \n",
              "4     0.09            0.02          ?              ?                    ?   \n",
              "\n",
              "   LemasGangUnitDeploy  LemasPctOfficDrugUn  PolicBudgPerPop  \\\n",
              "0                  0.5                 0.32             0.14   \n",
              "1                    ?                 0.00                ?   \n",
              "2                    ?                 0.00                ?   \n",
              "3                    ?                 0.00                ?   \n",
              "4                    ?                 0.00                ?   \n",
              "\n",
              "   ViolentCrimesPerPop  \n",
              "0                 0.20  \n",
              "1                 0.67  \n",
              "2                 0.43  \n",
              "3                 0.12  \n",
              "4                 0.03  \n",
              "\n",
              "[5 rows x 128 columns]"
            ]
          },
          "execution_count": 100,
          "metadata": {},
          "output_type": "execute_result"
        }
      ],
      "source": [
        "# Fetch dataset\n",
        "communities_and_crime = fetch_ucirepo(id=183)\n",
        "\n",
        "feature_df = communities_and_crime[\"data\"][\"features\"]\n",
        "target_df = communities_and_crime[\"data\"][\"targets\"]\n",
        "\n",
        "data_df = feature_df.join(target_df)\n",
        "\n",
        "print(f\"Shape of df: {data_df.shape}\")\n",
        "\n",
        "data_df.head()"
      ]
    },
    {
      "cell_type": "markdown",
      "metadata": {
        "id": "aAuiabUiLoHn"
      },
      "source": [
        "## Developing the policing algorithm\n",
        "\n",
        "Let's now put ourselves in the shoes of a data analyst working for the US Criminal Justice Services. We've been asked to develop a predictive algorithm that can determine high crime areas in which a high number of police patrol needs to be deployed.\n",
        "\n",
        "We will use the Community and Crima data from the UCI repository and apply a standard analytical process to end up with a highly accurate prediction model."
      ]
    },
    {
      "cell_type": "code",
      "execution_count": 101,
      "metadata": {
        "colab": {
          "base_uri": "https://localhost:8080/"
        },
        "id": "3H1TRrLcCy0g",
        "outputId": "7ca8b9b7-1b94-4d78-a1c8-66acf7e20ac1"
      },
      "outputs": [
        {
          "name": "stdout",
          "output_type": "stream",
          "text": [
            "{'uci_id': 183, 'name': 'Communities and Crime', 'repository_url': 'https://archive.ics.uci.edu/dataset/183/communities+and+crime', 'data_url': 'https://archive.ics.uci.edu/static/public/183/data.csv', 'abstract': 'Communities within the United States. The data combines socio-economic data from the 1990 US Census, law enforcement data from the 1990 US LEMAS survey, and crime data from the 1995 FBI UCR.', 'area': 'Social Science', 'tasks': ['Regression'], 'characteristics': ['Multivariate'], 'num_instances': 1994, 'num_features': 127, 'feature_types': ['Real'], 'demographics': ['Race', 'Age', 'Income', 'Occupation'], 'target_col': ['ViolentCrimesPerPop'], 'index_col': None, 'has_missing_values': 'yes', 'missing_values_symbol': 'NaN', 'year_of_dataset_creation': 2002, 'last_updated': 'Mon Mar 04 2024', 'dataset_doi': '10.24432/C53W3X', 'creators': ['Michael Redmond'], 'intro_paper': {'title': 'A data-driven software tool for enabling cooperative information sharing among police departments', 'authors': 'Michael Redmond, Alok Baveja', 'published_in': 'European Journal of Operational Research', 'year': 2002, 'url': 'https://www.semanticscholar.org/paper/2cbe83cae40f5236146aae99522397407a56e7d7', 'doi': '10.1016/S0377-2217(01)00264-8'}, 'additional_info': {'summary': \"  Many variables are included so that algorithms that select or learn weights for attributes could be tested. However, clearly unrelated attributes were not included; attributes were picked if there was any plausible connection to crime (N=122), plus the attribute to be predicted (Per Capita Violent Crimes). The variables included in the dataset involve the community, such as the percent of the population considered urban, and the median family income, and involving law enforcement, such as per capita number of police officers, and percent of officers assigned to drug units. \\r\\n \\r\\n The per capita violent crimes variable was calculated using population and the sum of crime variables considered violent crimes in the United States: murder, rape, robbery, and assault. There was apparently some controversy in some states concerning the counting of rapes. These resulted in missing values for rape, which resulted in incorrect values for per capita violent crime. These cities are not included in the dataset. Many of these omitted communities were from the midwestern USA.\\r\\n\\r\\n  Data is described below based on original values. All numeric data was normalized into the decimal range  0.00-1.00 using an Unsupervised, equal-interval binning method. Attributes retain their distribution and skew (hence for example the population attribute has a mean value of  0.06 because most communities are small). E.g. An attribute described as 'mean people per household' is actually the normalized (0-1) version of that value.\\r\\n\\r\\n  The normalization preserves rough ratios of values WITHIN an attribute (e.g. double the value for double the population within the available precision - except for extreme values (all values more than 3 SD above the mean are normalized to 1.00; all values more than 3 SD below the mean are nromalized to  0.00)).\\r\\n\\r\\n  However, the normalization does not preserve relationships between values BETWEEN attributes (e.g. it would not be meaningful to compare the value for whitePerCap with the value for blackPerCap for a community)\\r\\n\\r\\n  A limitation was that the LEMAS survey was of the police departments with at least 100 officers, plus a random sample of smaller departments. For our purposes, communities not found in both census and crime datasets were omitted. Many communities are missing LEMAS data.\\r\\n\\r\\n.arff header for Weka:\\r\\n\\r\\n@relation crimepredict\\r\\n\\r\\n@attribute state numeric\\r\\n@attribute county numeric\\r\\n@attribute community numeric\\r\\n@attribute communityname string\\r\\n@attribute fold numeric\\r\\n@attribute population numeric\\r\\n@attribute householdsize numeric\\r\\n@attribute racepctblack numeric\\r\\n@attribute racePctWhite numeric\\r\\n@attribute racePctAsian numeric\\r\\n@attribute racePctHisp numeric\\r\\n@attribute agePct12t21 numeric\\r\\n@attribute agePct12t29 numeric\\r\\n@attribute agePct16t24 numeric\\r\\n@attribute agePct65up numeric\\r\\n@attribute numbUrban numeric\\r\\n@attribute pctUrban numeric\\r\\n@attribute medIncome numeric\\r\\n@attribute pctWWage numeric\\r\\n@attribute pctWFarmSelf numeric\\r\\n@attribute pctWInvInc numeric\\r\\n@attribute pctWSocSec numeric\\r\\n@attribute pctWPubAsst numeric\\r\\n@attribute pctWRetire numeric\\r\\n@attribute medFamInc numeric\\r\\n@attribute perCapInc numeric\\r\\n@attribute whitePerCap numeric\\r\\n@attribute blackPerCap numeric\\r\\n@attribute indianPerCap numeric\\r\\n@attribute AsianPerCap numeric\\r\\n@attribute OtherPerCap numeric\\r\\n@attribute HispPerCap numeric\\r\\n@attribute NumUnderPov numeric\\r\\n@attribute PctPopUnderPov numeric\\r\\n@attribute PctLess9thGrade numeric\\r\\n@attribute PctNotHSGrad numeric\\r\\n@attribute PctBSorMore numeric\\r\\n@attribute PctUnemployed numeric\\r\\n@attribute PctEmploy numeric\\r\\n@attribute PctEmplManu numeric\\r\\n@attribute PctEmplProfServ numeric\\r\\n@attribute PctOccupManu numeric\\r\\n@attribute PctOccupMgmtProf numeric\\r\\n@attribute MalePctDivorce numeric\\r\\n@attribute MalePctNevMarr numeric\\r\\n@attribute FemalePctDiv numeric\\r\\n@attribute TotalPctDiv numeric\\r\\n@attribute PersPerFam numeric\\r\\n@attribute PctFam2Par numeric\\r\\n@attribute PctKids2Par numeric\\r\\n@attribute PctYoungKids2Par numeric\\r\\n@attribute PctTeen2Par numeric\\r\\n@attribute PctWorkMomYoungKids numeric\\r\\n@attribute PctWorkMom numeric\\r\\n@attribute NumIlleg numeric\\r\\n@attribute PctIlleg numeric\\r\\n@attribute NumImmig numeric\\r\\n@attribute PctImmigRecent numeric\\r\\n@attribute PctImmigRec5 numeric\\r\\n@attribute PctImmigRec8 numeric\\r\\n@attribute PctImmigRec10 numeric\\r\\n@attribute PctRecentImmig numeric\\r\\n@attribute PctRecImmig5 numeric\\r\\n@attribute PctRecImmig8 numeric\\r\\n@attribute PctRecImmig10 numeric\\r\\n@attribute PctSpeakEnglOnly numeric\\r\\n@attribute PctNotSpeakEnglWell numeric\\r\\n@attribute PctLargHouseFam numeric\\r\\n@attribute PctLargHouseOccup numeric\\r\\n@attribute PersPerOccupHous numeric\\r\\n@attribute PersPerOwnOccHous numeric\\r\\n@attribute PersPerRentOccHous numeric\\r\\n@attribute PctPersOwnOccup numeric\\r\\n@attribute PctPersDenseHous numeric\\r\\n@attribute PctHousLess3BR numeric\\r\\n@attribute MedNumBR numeric\\r\\n@attribute HousVacant numeric\\r\\n@attribute PctHousOccup numeric\\r\\n@attribute PctHousOwnOcc numeric\\r\\n@attribute PctVacantBoarded numeric\\r\\n@attribute PctVacMore6Mos numeric\\r\\n@attribute MedYrHousBuilt numeric\\r\\n@attribute PctHousNoPhone numeric\\r\\n@attribute PctWOFullPlumb numeric\\r\\n@attribute OwnOccLowQuart numeric\\r\\n@attribute OwnOccMedVal numeric\\r\\n@attribute OwnOccHiQuart numeric\\r\\n@attribute RentLowQ numeric\\r\\n@attribute RentMedian numeric\\r\\n@attribute RentHighQ numeric\\r\\n@attribute MedRent numeric\\r\\n@attribute MedRentPctHousInc numeric\\r\\n@attribute MedOwnCostPctInc numeric\\r\\n@attribute MedOwnCostPctIncNoMtg numeric\\r\\n@attribute NumInShelters numeric\\r\\n@attribute NumStreet numeric\\r\\n@attribute PctForeignBorn numeric\\r\\n@attribute PctBornSameState numeric\\r\\n@attribute PctSameHouse85 numeric\\r\\n@attribute PctSameCity85 numeric\\r\\n@attribute PctSameState85 numeric\\r\\n@attribute LemasSwornFT numeric\\r\\n@attribute LemasSwFTPerPop numeric\\r\\n@attribute LemasSwFTFieldOps numeric\\r\\n@attribute LemasSwFTFieldPerPop numeric\\r\\n@attribute LemasTotalReq numeric\\r\\n@attribute LemasTotReqPerPop numeric\\r\\n@attribute PolicReqPerOffic numeric\\r\\n@attribute PolicPerPop numeric\\r\\n@attribute RacialMatchCommPol numeric\\r\\n@attribute PctPolicWhite numeric\\r\\n@attribute PctPolicBlack numeric\\r\\n@attribute PctPolicHisp numeric\\r\\n@attribute PctPolicAsian numeric\\r\\n@attribute PctPolicMinor numeric\\r\\n@attribute OfficAssgnDrugUnits numeric\\r\\n@attribute NumKindsDrugsSeiz numeric\\r\\n@attribute PolicAveOTWorked numeric\\r\\n@attribute LandArea numeric\\r\\n@attribute PopDens numeric\\r\\n@attribute PctUsePubTrans numeric\\r\\n@attribute PolicCars numeric\\r\\n@attribute PolicOperBudg numeric\\r\\n@attribute LemasPctPolicOnPatr numeric\\r\\n@attribute LemasGangUnitDeploy numeric\\r\\n@attribute LemasPctOfficDrugUn numeric\\r\\n@attribute PolicBudgPerPop numeric\\r\\n@attribute ViolentCrimesPerPop numeric\\r\\n\\r\\n@data\\r\\n\\r\\n  \", 'purpose': None, 'funded_by': None, 'instances_represent': None, 'recommended_data_splits': None, 'sensitive_data': None, 'preprocessing_description': None, 'variable_info': \"Attribute Information: (122 predictive, 5 non-predictive, 1 goal)\\r\\n  -- state: US state (by number) - not counted as predictive above, but if considered, should be consided nominal (nominal) \\r\\n  -- county: numeric code for county - not predictive, and many missing values (numeric)\\r\\n  -- community: numeric code for community - not predictive and many missing values (numeric)\\r\\n  -- communityname: community name - not predictive - for information only (string)\\r\\n  -- fold: fold number for non-random 10 fold cross validation, potentially useful for debugging, paired tests - not predictive (numeric)\\r\\n  -- population: population for community: (numeric - decimal)\\r\\n  -- householdsize: mean people per household (numeric - decimal)\\r\\n  -- racepctblack: percentage of population that is african american (numeric - decimal)\\r\\n  -- racePctWhite: percentage of population that is caucasian (numeric - decimal)\\r\\n  -- racePctAsian: percentage of population that is of asian heritage (numeric - decimal)\\r\\n  -- racePctHisp: percentage of population that is of hispanic heritage (numeric - decimal)\\r\\n  -- agePct12t21: percentage of population that is 12-21 in age (numeric - decimal)\\r\\n  -- agePct12t29: percentage of population that is 12-29 in age (numeric - decimal)\\r\\n  -- agePct16t24: percentage of population that is 16-24 in age (numeric - decimal)\\r\\n  -- agePct65up: percentage of population that is 65 and over in age (numeric - decimal)\\r\\n  -- numbUrban: number of people living in areas classified as urban (numeric - decimal)\\r\\n  -- pctUrban: percentage of people living in areas classified as urban (numeric - decimal)\\r\\n  -- medIncome: median household income (numeric - decimal)\\r\\n  -- pctWWage: percentage of households with wage or salary income in 1989 (numeric - decimal)\\r\\n  -- pctWFarmSelf: percentage of households with farm or self employment income in 1989 (numeric - decimal)\\r\\n  -- pctWInvInc: percentage of households with investment / rent income in 1989 (numeric - decimal)\\r\\n  -- pctWSocSec: percentage of households with social security income in 1989 (numeric - decimal)\\r\\n  -- pctWPubAsst: percentage of households with public assistance income in 1989 (numeric - decimal)\\r\\n  -- pctWRetire: percentage of households with retirement income in 1989 (numeric - decimal)\\r\\n  -- medFamInc: median family income (differs from household income for non-family households) (numeric - decimal)\\r\\n  -- perCapInc: per capita income (numeric - decimal)\\r\\n  -- whitePerCap: per capita income for caucasians (numeric - decimal)\\r\\n  -- blackPerCap: per capita income for african americans (numeric - decimal)\\r\\n  -- indianPerCap: per capita income for native americans (numeric - decimal)\\r\\n  -- AsianPerCap: per capita income for people with asian heritage (numeric - decimal)\\r\\n  -- OtherPerCap: per capita income for people with 'other' heritage (numeric - decimal)\\r\\n  -- HispPerCap: per capita income for people with hispanic heritage (numeric - decimal)\\r\\n  -- NumUnderPov: number of people under the poverty level (numeric - decimal)\\r\\n  -- PctPopUnderPov: percentage of people under the poverty level (numeric - decimal)\\r\\n  -- PctLess9thGrade: percentage of people 25 and over with less than a 9th grade education (numeric - decimal)\\r\\n  -- PctNotHSGrad: percentage of people 25 and over that are not high school graduates (numeric - decimal)\\r\\n  -- PctBSorMore: percentage of people 25 and over with a bachelors degree or higher education (numeric - decimal)\\r\\n  -- PctUnemployed: percentage of people 16 and over, in the labor force, and unemployed (numeric - decimal)\\r\\n  -- PctEmploy: percentage of people 16 and over who are employed (numeric - decimal)\\r\\n  -- PctEmplManu: percentage of people 16 and over who are employed in manufacturing (numeric - decimal)\\r\\n  -- PctEmplProfServ: percentage of people 16 and over who are employed in professional services (numeric - decimal)\\r\\n  -- PctOccupManu: percentage of people 16 and over who are employed in manufacturing (numeric - decimal)   ########\\r\\n  -- PctOccupMgmtProf: percentage of people 16 and over who are employed in management or professional occupations (numeric - decimal)\\r\\n  -- MalePctDivorce: percentage of males who are divorced (numeric - decimal)\\r\\n  -- MalePctNevMarr: percentage of males who have never married (numeric - decimal)\\r\\n  -- FemalePctDiv: percentage of females who are divorced (numeric - decimal)\\r\\n  -- TotalPctDiv: percentage of population who are divorced (numeric - decimal)\\r\\n  -- PersPerFam: mean number of people per family (numeric - decimal)\\r\\n  -- PctFam2Par: percentage of families (with kids) that are headed by two parents (numeric - decimal)\\r\\n  -- PctKids2Par: percentage of kids in family housing with two parents (numeric - decimal)\\r\\n  -- PctYoungKids2Par: percent of kids 4 and under in two parent households (numeric - decimal)\\r\\n  -- PctTeen2Par: percent of kids age 12-17 in two parent households (numeric - decimal)\\r\\n  -- PctWorkMomYoungKids: percentage of moms of kids 6 and under in labor force (numeric - decimal)\\r\\n  -- PctWorkMom: percentage of moms of kids under 18 in labor force (numeric - decimal)\\r\\n  -- NumIlleg: number of kids born to never married (numeric - decimal)\\r\\n  -- PctIlleg: percentage of kids born to never married (numeric - decimal)\\r\\n  -- NumImmig: total number of people known to be foreign born (numeric - decimal)\\r\\n  -- PctImmigRecent: percentage of _immigrants_ who immigated within last 3 years (numeric - decimal)\\r\\n  -- PctImmigRec5: percentage of _immigrants_ who immigated within last 5 years (numeric - decimal)\\r\\n  -- PctImmigRec8: percentage of _immigrants_ who immigated within last 8 years (numeric - decimal)\\r\\n  -- PctImmigRec10: percentage of _immigrants_ who immigated within last 10 years (numeric - decimal)\\r\\n  -- PctRecentImmig: percent of _population_ who have immigrated within the last 3 years (numeric - decimal)\\r\\n  -- PctRecImmig5: percent of _population_ who have immigrated within the last 5 years (numeric - decimal)\\r\\n  -- PctRecImmig8: percent of _population_ who have immigrated within the last 8 years (numeric - decimal)\\r\\n  -- PctRecImmig10: percent of _population_ who have immigrated within the last 10 years (numeric - decimal)\\r\\n  -- PctSpeakEnglOnly: percent of people who speak only English (numeric - decimal)\\r\\n  -- PctNotSpeakEnglWell: percent of people who do not speak English well (numeric - decimal)\\r\\n  -- PctLargHouseFam: percent of family households that are large (6 or more) (numeric - decimal)\\r\\n  -- PctLargHouseOccup: percent of all occupied households that are large (6 or more people) (numeric - decimal)\\r\\n  -- PersPerOccupHous: mean persons per household (numeric - decimal)\\r\\n  -- PersPerOwnOccHous: mean persons per owner occupied household (numeric - decimal)\\r\\n  -- PersPerRentOccHous: mean persons per rental household (numeric - decimal)\\r\\n  -- PctPersOwnOccup: percent of people in owner occupied households (numeric - decimal)\\r\\n  -- PctPersDenseHous: percent of persons in dense housing (more than 1 person per room) (numeric - decimal)\\r\\n  -- PctHousLess3BR: percent of housing units with less than 3 bedrooms (numeric - decimal)\\r\\n  -- MedNumBR: median number of bedrooms (numeric - decimal)\\r\\n  -- HousVacant: number of vacant households (numeric - decimal)\\r\\n  -- PctHousOccup: percent of housing occupied (numeric - decimal)\\r\\n  -- PctHousOwnOcc: percent of households owner occupied (numeric - decimal)\\r\\n  -- PctVacantBoarded: percent of vacant housing that is boarded up (numeric - decimal)\\r\\n  -- PctVacMore6Mos: percent of vacant housing that has been vacant more than 6 months (numeric - decimal)\\r\\n  -- MedYrHousBuilt: median year housing units built (numeric - decimal)\\r\\n  -- PctHousNoPhone: percent of occupied housing units without phone (in 1990, this was rare!) (numeric - decimal)\\r\\n  -- PctWOFullPlumb: percent of housing without complete plumbing facilities (numeric - decimal)\\r\\n  -- OwnOccLowQuart: owner occupied housing - lower quartile value (numeric - decimal)\\r\\n  -- OwnOccMedVal: owner occupied housing - median value (numeric - decimal)\\r\\n  -- OwnOccHiQuart: owner occupied housing - upper quartile value (numeric - decimal)\\r\\n  -- RentLowQ: rental housing - lower quartile rent (numeric - decimal)\\r\\n  -- RentMedian: rental housing - median rent (Census variable H32B from file STF1A) (numeric - decimal)\\r\\n  -- RentHighQ: rental housing - upper quartile rent (numeric - decimal)\\r\\n  -- MedRent: median gross rent (Census variable H43A from file STF3A - includes utilities) (numeric - decimal)\\r\\n  -- MedRentPctHousInc: median gross rent as a percentage of household income (numeric - decimal)\\r\\n  -- MedOwnCostPctInc: median owners cost as a percentage of household income - for owners with a mortgage (numeric - decimal)\\r\\n  -- MedOwnCostPctIncNoMtg: median owners cost as a percentage of household income - for owners without a mortgage (numeric - decimal)\\r\\n  -- NumInShelters: number of people in homeless shelters (numeric - decimal)\\r\\n  -- NumStreet: number of homeless people counted in the street (numeric - decimal)\\r\\n  -- PctForeignBorn: percent of people foreign born (numeric - decimal)\\r\\n  -- PctBornSameState: percent of people born in the same state as currently living (numeric - decimal)\\r\\n  -- PctSameHouse85: percent of people living in the same house as in 1985 (5 years before) (numeric - decimal)\\r\\n  -- PctSameCity85: percent of people living in the same city as in 1985 (5 years before) (numeric - decimal)\\r\\n  -- PctSameState85: percent of people living in the same state as in 1985 (5 years before) (numeric - decimal)\\r\\n  -- LemasSwornFT: number of sworn full time police officers (numeric - decimal)\\r\\n  -- LemasSwFTPerPop: sworn full time police officers per 100K population (numeric - decimal)\\r\\n  -- LemasSwFTFieldOps: number of sworn full time police officers in field operations (on the street as opposed to administrative etc) (numeric - decimal)\\r\\n  -- LemasSwFTFieldPerPop: sworn full time police officers in field operations (on the street as opposed to administrative etc) per 100K population (numeric - decimal)\\r\\n  -- LemasTotalReq: total requests for police (numeric - decimal)\\r\\n  -- LemasTotReqPerPop: total requests for police per 100K popuation (numeric - decimal)\\r\\n  -- PolicReqPerOffic: total requests for police per police officer (numeric - decimal)\\r\\n  -- PolicPerPop: police officers per 100K population (numeric - decimal)\\r\\n  -- RacialMatchCommPol: a measure of the racial match between the community and the police force. High values indicate proportions in community and police force are similar (numeric - decimal)\\r\\n  -- PctPolicWhite: percent of police that are caucasian (numeric - decimal)\\r\\n  -- PctPolicBlack: percent of police that are african american (numeric - decimal)\\r\\n  -- PctPolicHisp: percent of police that are hispanic (numeric - decimal)\\r\\n  -- PctPolicAsian: percent of police that are asian (numeric - decimal)\\r\\n  -- PctPolicMinor: percent of police that are minority of any kind (numeric - decimal)\\r\\n  -- OfficAssgnDrugUnits: number of officers assigned to special drug units (numeric - decimal)\\r\\n  -- NumKindsDrugsSeiz: number of different kinds of drugs seized (numeric - decimal)\\r\\n  -- PolicAveOTWorked: police average overtime worked (numeric - decimal)\\r\\n  -- LandArea: land area in square miles (numeric - decimal)\\r\\n  -- PopDens: population density in persons per square mile (numeric - decimal)\\r\\n  -- PctUsePubTrans: percent of people using public transit for commuting (numeric - decimal)\\r\\n  -- PolicCars: number of police cars (numeric - decimal)\\r\\n  -- PolicOperBudg: police operating budget (numeric - decimal)\\r\\n  -- LemasPctPolicOnPatr: percent of sworn full time police officers on patrol (numeric - decimal)\\r\\n  -- LemasGangUnitDeploy: gang unit deployed (numeric - decimal - but really ordinal - 0 means NO, 1 means YES,  0.5 means Part Time)\\r\\n  -- LemasPctOfficDrugUn: percent of officers assigned to drug units (numeric - decimal)\\r\\n  -- PolicBudgPerPop: police operating budget per population (numeric - decimal)\\r\\n  -- ViolentCrimesPerPop: total number of violent crimes per 100K popuation (numeric - decimal) GOAL attribute (to be predicted)\\r\\n\\r\\nSummary Statistics:\\r\\n\\t\\t\\tMin\\tMax\\t Mean\\t SD\\tCorrel\\tMedian\\t Mode\\tMissing\\r\\npopulation\\t\\t0\\t1\\t 0.06\\t 0.13\\t 0.37\\t 0.02\\t 0.01\\t0\\r\\nhouseholdsize\\t\\t0\\t1\\t 0.46\\t 0.16\\t-0.03\\t 0.44\\t 0.41\\t0\\r\\nracepctblack\\t\\t0\\t1\\t 0.18\\t 0.25\\t 0.63\\t 0.06\\t 0.01\\t0\\r\\nracePctWhite\\t\\t0\\t1\\t 0.75\\t 0.24\\t-0.68\\t 0.85\\t 0.98\\t0\\r\\nracePctAsian\\t\\t0\\t1\\t 0.15\\t 0.21\\t 0.04\\t 0.07\\t 0.02\\t0\\r\\nracePctHisp\\t\\t0\\t1\\t 0.14\\t 0.23\\t 0.29\\t 0.04\\t 0.01\\t0\\r\\nagePct12t21\\t\\t0\\t1\\t 0.42\\t 0.16\\t 0.06\\t 0.4\\t 0.38\\t0\\r\\nagePct12t29\\t\\t0\\t1\\t 0.49\\t 0.14\\t 0.15\\t 0.48\\t 0.49\\t0\\r\\nagePct16t24\\t\\t0\\t1\\t 0.34\\t 0.17\\t 0.10\\t 0.29\\t 0.29\\t0\\r\\nagePct65up\\t\\t0\\t1\\t 0.42\\t 0.18\\t 0.07\\t 0.42\\t 0.47\\t0\\r\\nnumbUrban\\t\\t0\\t1\\t 0.06\\t 0.13\\t 0.36\\t 0.03\\t 0\\t0\\r\\npctUrban\\t\\t0\\t1\\t 0.70\\t 0.44\\t 0.08\\t 1\\t 1\\t0\\r\\nmedIncome\\t\\t0\\t1\\t 0.36\\t 0.21\\t-0.42\\t 0.32\\t 0.23\\t0\\r\\npctWWage\\t\\t0\\t1\\t 0.56\\t 0.18\\t-0.31\\t 0.56\\t 0.58\\t0\\r\\npctWFarmSelf\\t\\t0\\t1\\t 0.29\\t 0.20\\t-0.15\\t 0.23\\t 0.16\\t0\\r\\npctWInvInc\\t\\t0\\t1\\t 0.50\\t 0.18\\t-0.58\\t 0.48\\t 0.41\\t0\\r\\npctWSocSec\\t\\t0\\t1\\t 0.47\\t 0.17\\t 0.12\\t 0.475\\t 0.56\\t0\\r\\npctWPubAsst\\t\\t0\\t1\\t 0.32\\t 0.22\\t 0.57\\t 0.26\\t 0.1\\t0\\r\\npctWRetire\\t\\t0\\t1\\t 0.48\\t 0.17\\t-0.10\\t 0.47\\t 0.44\\t0\\r\\nmedFamInc\\t\\t0\\t1\\t 0.38\\t 0.20\\t-0.44\\t 0.33\\t 0.25\\t0\\r\\nperCapInc\\t\\t0\\t1\\t 0.35\\t 0.19\\t-0.35\\t 0.3\\t 0.23\\t0\\r\\nwhitePerCap\\t\\t0\\t1\\t 0.37\\t 0.19\\t-0.21\\t 0.32\\t 0.3\\t0\\r\\nblackPerCap\\t\\t0\\t1\\t 0.29\\t 0.17\\t-0.28\\t 0.25\\t 0.18\\t0\\r\\nindianPerCap\\t\\t0\\t1\\t 0.20\\t 0.16\\t-0.09\\t 0.17\\t 0\\t0\\r\\nAsianPerCap\\t\\t0\\t1\\t 0.32\\t 0.20\\t-0.16\\t 0.28\\t 0.18\\t0\\r\\nOtherPerCap\\t\\t0\\t1\\t 0.28\\t 0.19\\t-0.13\\t 0.25\\t 0\\t1\\r\\nHispPerCap\\t\\t0\\t1\\t 0.39\\t 0.18\\t-0.24\\t 0.345\\t 0.3\\t0\\r\\nNumUnderPov\\t\\t0\\t1\\t 0.06\\t 0.13\\t 0.45\\t 0.02\\t 0.01\\t0\\r\\nPctPopUnderPov\\t\\t0\\t1\\t 0.30\\t 0.23\\t 0.52\\t 0.25\\t 0.08\\t0\\r\\nPctLess9thGrade\\t\\t0\\t1\\t 0.32\\t 0.21\\t 0.41\\t 0.27\\t 0.19\\t0\\r\\nPctNotHSGrad\\t\\t0\\t1\\t 0.38\\t 0.20\\t 0.48\\t 0.36\\t 0.39\\t0\\r\\nPctBSorMore\\t\\t0\\t1\\t 0.36\\t 0.21\\t-0.31\\t 0.31\\t 0.18\\t0\\r\\nPctUnemployed\\t\\t0\\t1\\t 0.36\\t 0.20\\t 0.50\\t 0.32\\t 0.24\\t0\\r\\nPctEmploy\\t\\t0\\t1\\t 0.50\\t 0.17\\t-0.33\\t 0.51\\t 0.56\\t0\\r\\nPctEmplManu\\t\\t0\\t1\\t 0.40\\t 0.20\\t-0.04\\t 0.37\\t 0.26\\t0\\r\\nPctEmplProfServ\\t\\t0\\t1\\t 0.44\\t 0.18\\t-0.07\\t 0.41\\t 0.36\\t0\\r\\nPctOccupManu\\t\\t0\\t1\\t 0.39\\t 0.20\\t 0.30\\t 0.37\\t 0.32\\t0\\r\\nPctOccupMgmtProf\\t0\\t1\\t 0.44\\t 0.19\\t-0.34\\t 0.4\\t 0.36\\t0\\r\\nMalePctDivorce\\t\\t0\\t1\\t 0.46\\t 0.18\\t 0.53\\t 0.47\\t 0.56\\t0\\r\\nMalePctNevMarr\\t\\t0\\t1\\t 0.43\\t 0.18\\t 0.30\\t 0.4\\t 0.38\\t0\\r\\nFemalePctDiv\\t\\t0\\t1\\t 0.49\\t 0.18\\t 0.56\\t 0.5\\t 0.54\\t0\\r\\nTotalPctDiv\\t\\t0\\t1\\t 0.49\\t 0.18\\t 0.55\\t 0.5\\t 0.57\\t0\\r\\nPersPerFam\\t\\t0\\t1\\t 0.49\\t 0.15\\t 0.14\\t 0.47\\t 0.44\\t0\\r\\nPctFam2Par\\t\\t0\\t1\\t 0.61\\t 0.20\\t-0.71\\t 0.63\\t 0.7\\t0\\r\\nPctKids2Par\\t\\t0\\t1\\t 0.62\\t 0.21\\t-0.74\\t 0.64\\t 0.72\\t0\\r\\nPctYoungKids2Par\\t0\\t1\\t 0.66\\t 0.22\\t-0.67\\t 0.7\\t 0.91\\t0\\r\\nPctTeen2Par\\t\\t0\\t1\\t 0.58\\t 0.19\\t-0.66\\t 0.61\\t 0.6\\t0\\r\\nPctWorkMomYoungKids\\t0\\t1\\t 0.50\\t 0.17\\t-0.02\\t 0.51\\t 0.51\\t0\\r\\nPctWorkMom\\t\\t0\\t1\\t 0.53\\t 0.18\\t-0.15\\t 0.54\\t 0.57\\t0\\r\\nNumIlleg\\t\\t0\\t1\\t 0.04\\t 0.11\\t 0.47\\t 0.01\\t 0\\t0\\r\\nPctIlleg\\t\\t0\\t1\\t 0.25\\t 0.23\\t 0.74\\t 0.17\\t 0.09\\t0\\r\\nNumImmig\\t\\t0\\t1\\t 0.03\\t 0.09\\t 0.29\\t 0.01\\t 0\\t0\\r\\nPctImmigRecent\\t\\t0\\t1\\t 0.32\\t 0.22\\t 0.17\\t 0.29\\t 0\\t0\\r\\nPctImmigRec5\\t\\t0\\t1\\t 0.36\\t 0.21\\t 0.22\\t 0.34\\t 0\\t0\\r\\nPctImmigRec8\\t\\t0\\t1\\t 0.40\\t 0.20\\t 0.25\\t 0.39\\t 0.26\\t0\\r\\nPctImmigRec10\\t\\t0\\t1\\t 0.43\\t 0.19\\t 0.29\\t 0.43\\t 0.43\\t0\\r\\nPctRecentImmig\\t\\t0\\t1\\t 0.18\\t 0.24\\t 0.23\\t 0.09\\t 0.01\\t0\\r\\nPctRecImmig5\\t\\t0\\t1\\t 0.18\\t 0.24\\t 0.25\\t 0.08\\t 0.02\\t0\\r\\nPctRecImmig8\\t\\t0\\t1\\t 0.18\\t 0.24\\t 0.25\\t 0.09\\t 0.02\\t0\\r\\nPctRecImmig10\\t\\t0\\t1\\t 0.18\\t 0.23\\t 0.26\\t 0.09\\t 0.02\\t0\\r\\nPctSpeakEnglOnly\\t0\\t1\\t 0.79\\t 0.23\\t-0.24\\t 0.87\\t 0.96\\t0\\r\\nPctNotSpeakEnglWell\\t0\\t1\\t 0.15\\t 0.22\\t 0.30\\t 0.06\\t 0.03\\t0\\r\\nPctLargHouseFam\\t\\t0\\t1\\t 0.27\\t 0.20\\t 0.38\\t 0.2\\t 0.17\\t0\\r\\nPctLargHouseOccup\\t0\\t1\\t 0.25\\t 0.19\\t 0.29\\t 0.19\\t 0.19\\t0\\r\\nPersPerOccupHous\\t0\\t1\\t 0.46\\t 0.17\\t-0.04\\t 0.44\\t 0.37\\t0\\r\\nPersPerOwnOccHous\\t0\\t1\\t 0.49\\t 0.16\\t-0.12\\t 0.48\\t 0.45\\t0\\r\\nPersPerRentOccHous\\t0\\t1\\t 0.40\\t 0.19\\t 0.25\\t 0.36\\t 0.32\\t0\\r\\nPctPersOwnOccup\\t\\t0\\t1\\t 0.56\\t 0.20\\t-0.53\\t 0.56\\t 0.54\\t0\\r\\nPctPersDenseHous\\t0\\t1\\t 0.19\\t 0.21\\t 0.45\\t 0.11\\t 0.06\\t0\\r\\nPctHousLess3BR\\t\\t0\\t1\\t 0.50\\t 0.17\\t 0.47\\t 0.51\\t 0.53\\t0\\r\\nMedNumBR\\t\\t0\\t1\\t 0.31\\t 0.26\\t-0.36\\t 0.5\\t 0.5\\t0\\r\\nHousVacant\\t\\t0\\t1\\t 0.08\\t 0.15\\t 0.42\\t 0.03\\t 0.01\\t0\\r\\nPctHousOccup\\t\\t0\\t1\\t 0.72\\t 0.19\\t-0.32\\t 0.77\\t 0.88\\t0\\r\\nPctHousOwnOcc\\t\\t0\\t1\\t 0.55\\t 0.19\\t-0.47\\t 0.54\\t 0.52\\t0\\r\\nPctVacantBoarded\\t0\\t1\\t 0.20\\t 0.22\\t 0.48\\t 0.13\\t 0\\t0\\r\\nPctVacMore6Mos\\t\\t0\\t1\\t 0.43\\t 0.19\\t 0.02\\t 0.42\\t 0.44\\t0\\r\\nMedYrHousBuilt\\t\\t0\\t1\\t 0.49\\t 0.23\\t-0.11\\t 0.52\\t 0\\t0\\r\\nPctHousNoPhone\\t\\t0\\t1\\t 0.26\\t 0.24\\t 0.49\\t 0.185\\t 0.01\\t0\\r\\nPctWOFullPlumb\\t\\t0\\t1\\t 0.24\\t 0.21\\t 0.36\\t 0.19\\t 0\\t0\\r\\nOwnOccLowQuart\\t\\t0\\t1\\t 0.26\\t 0.22\\t-0.21\\t 0.18\\t 0.09\\t0\\r\\nOwnOccMedVal\\t\\t0\\t1\\t 0.26\\t 0.23\\t-0.19\\t 0.17\\t 0.08\\t0\\r\\nOwnOccHiQuart\\t\\t0\\t1\\t 0.27\\t 0.24\\t-0.17\\t 0.18\\t 0.08\\t0\\r\\nRentLowQ\\t\\t0\\t1\\t 0.35\\t 0.22\\t-0.25\\t 0.31\\t 0.13\\t0\\r\\nRentMedian\\t\\t0\\t1\\t 0.37\\t 0.21\\t-0.24\\t 0.33\\t 0.19\\t0\\r\\nRentHighQ\\t\\t0\\t1\\t 0.42\\t 0.25\\t-0.23\\t 0.37\\t 1\\t0\\r\\nMedRent\\t\\t\\t0\\t1\\t 0.38\\t 0.21\\t-0.24\\t 0.34\\t 0.17\\t0\\r\\nMedRentPctHousInc\\t0\\t1\\t 0.49\\t 0.17\\t 0.33\\t 0.48\\t 0.4\\t0\\r\\nMedOwnCostPctInc\\t0\\t1\\t 0.45\\t 0.19\\t 0.06\\t 0.45\\t 0.41\\t0\\r\\nMedOwnCostPctIncNoMtg\\t0\\t1\\t 0.40\\t 0.19\\t 0.05\\t 0.37\\t 0.24\\t0\\r\\nNumInShelters\\t\\t0\\t1\\t 0.03\\t 0.10\\t 0.38\\t 0\\t 0\\t0\\r\\nNumStreet\\t\\t0\\t1\\t 0.02\\t 0.10\\t 0.34\\t 0\\t 0\\t0\\r\\nPctForeignBorn\\t\\t0\\t1\\t 0.22\\t 0.23\\t 0.19\\t 0.13\\t 0.03\\t0\\r\\nPctBornSameState\\t0\\t1\\t 0.61\\t 0.20\\t-0.08\\t 0.63\\t 0.78\\t0\\r\\nPctSameHouse85\\t\\t0\\t1\\t 0.54\\t 0.18\\t-0.16\\t 0.54\\t 0.59\\t0\\r\\nPctSameCity85\\t\\t0\\t1\\t 0.63\\t 0.20\\t 0.08\\t 0.67\\t 0.74\\t0\\r\\nPctSameState85\\t\\t0\\t1\\t 0.65\\t 0.20\\t-0.02\\t 0.7\\t 0.79\\t0\\r\\nLemasSwornFT\\t\\t0\\t1\\t 0.07\\t 0.14\\t 0.34\\t 0.02\\t 0.02\\t1675\\r\\nLemasSwFTPerPop\\t\\t0\\t1\\t 0.22\\t 0.16\\t 0.15\\t 0.18\\t 0.2\\t1675\\r\\nLemasSwFTFieldOps\\t0\\t1\\t 0.92\\t 0.13\\t-0.33\\t 0.97\\t 0.98\\t1675\\r\\nLemasSwFTFieldPerPop\\t0\\t1\\t 0.25\\t 0.16\\t 0.16\\t 0.21\\t 0.19\\t1675\\r\\nLemasTotalReq\\t\\t0\\t1\\t 0.10\\t 0.16\\t 0.35\\t 0.04\\t 0.02\\t1675\\r\\nLemasTotReqPerPop\\t0\\t1\\t 0.22\\t 0.16\\t 0.27\\t 0.17\\t 0.14\\t1675\\r\\nPolicReqPerOffic\\t0\\t1\\t 0.34\\t 0.20\\t 0.17\\t 0.29\\t 0.23\\t1675\\r\\nPolicPerPop\\t\\t0\\t1\\t 0.22\\t 0.16\\t 0.15\\t 0.18\\t 0.2\\t1675\\r\\nRacialMatchCommPol\\t0\\t1\\t 0.69\\t 0.23\\t-0.46\\t 0.74\\t 0.78\\t1675\\r\\nPctPolicWhite\\t\\t0\\t1\\t 0.73\\t 0.22\\t-0.44\\t 0.78\\t 0.72\\t1675\\r\\nPctPolicBlack\\t\\t0\\t1\\t 0.22\\t 0.24\\t 0.54\\t 0.12\\t 0\\t1675\\r\\nPctPolicHisp\\t\\t0\\t1\\t 0.13\\t 0.20\\t 0.12\\t 0.06\\t 0\\t1675\\r\\nPctPolicAsian\\t\\t0\\t1\\t 0.11\\t 0.23\\t 0.10\\t 0\\t 0\\t1675\\r\\nPctPolicMinor\\t\\t0\\t1\\t 0.26\\t 0.23\\t 0.49\\t 0.2\\t 0.07\\t1675\\r\\nOfficAssgnDrugUnits\\t0\\t1\\t 0.08\\t 0.12\\t 0.34\\t 0.04\\t 0.03\\t1675\\r\\nNumKindsDrugsSeiz\\t0\\t1\\t 0.56\\t 0.20\\t 0.13\\t 0.57\\t 0.57\\t1675\\r\\nPolicAveOTWorked\\t0\\t1\\t 0.31\\t 0.23\\t 0.03\\t 0.26\\t 0.19\\t1675\\r\\nLandArea\\t\\t0\\t1\\t 0.07\\t 0.11\\t 0.20\\t 0.04\\t 0.01\\t0\\r\\nPopDens\\t\\t\\t0\\t1\\t 0.23\\t 0.20\\t 0.28\\t 0.17\\t 0.09\\t0\\r\\nPctUsePubTrans\\t\\t0\\t1\\t 0.16\\t 0.23\\t 0.15\\t 0.07\\t 0.01\\t0\\r\\nPolicCars\\t\\t0\\t1\\t 0.16\\t 0.21\\t 0.38\\t 0.08\\t 0.02\\t1675\\r\\nPolicOperBudg\\t\\t0\\t1\\t 0.08\\t 0.14\\t 0.34\\t 0.03\\t 0.02\\t1675\\r\\nLemasPctPolicOnPatr\\t0\\t1\\t 0.70\\t 0.21\\t-0.08\\t 0.75\\t 0.74\\t1675\\r\\nLemasGangUnitDeploy\\t0\\t1\\t 0.44\\t 0.41\\t 0.12\\t 0.5\\t 0\\t1675\\r\\nLemasPctOfficDrugUn\\t0\\t1\\t 0.09\\t 0.24\\t 0.35\\t 0\\t 0\\t0\\r\\nPolicBudgPerPop\\t\\t0\\t1\\t 0.20\\t 0.16\\t 0.10\\t 0.15\\t 0.12\\t1675\\r\\nViolentCrimesPerPop\\t0\\t1\\t 0.24\\t 0.23\\t 1.00\\t 0.15\\t 0.03\\t0\\r\\n\\r\\nDistribution of the Goal Variable (Violent Crimes per Population):\\r\\n   Range\\tFrequency\\r\\n0.000-0.067\\t484\\r\\n0.067-0.133\\t420\\r\\n0.133-0.200\\t284\\r\\n0.200-0.267\\t177\\r\\n0.267-0.333\\t142\\r\\n0.333-0.400\\t113\\r\\n0.400-0.467\\t 59\\r\\n0.467-0.533\\t 76\\r\\n0.533-0.600\\t 57\\r\\n0.600-0.667\\t 38\\r\\n0.667-0.733\\t 37\\r\\n0.733-0.800\\t 20\\r\\n0.800-0.867\\t 23\\r\\n0.867-0.933\\t 14\\r\\n0.933-1.000\\t 50\\r\\n\", 'citation': None}}\n",
            "                    name     role         type demographic description units  \\\n",
            "0                  state  Feature      Integer        None        None  None   \n",
            "1                 county  Feature      Integer        None        None  None   \n",
            "2              community  Feature      Integer        None        None  None   \n",
            "3          communityname  Feature  Categorical        None        None  None   \n",
            "4                   fold  Feature      Integer        None        None  None   \n",
            "..                   ...      ...          ...         ...         ...   ...   \n",
            "123  LemasPctPolicOnPatr  Feature   Continuous        None        None  None   \n",
            "124  LemasGangUnitDeploy  Feature      Integer        None        None  None   \n",
            "125  LemasPctOfficDrugUn  Feature      Integer        None        None  None   \n",
            "126      PolicBudgPerPop  Feature      Integer        None        None  None   \n",
            "127  ViolentCrimesPerPop   Target   Continuous        None        None  None   \n",
            "\n",
            "    missing_values  \n",
            "0               no  \n",
            "1              yes  \n",
            "2              yes  \n",
            "3               no  \n",
            "4               no  \n",
            "..             ...  \n",
            "123            yes  \n",
            "124            yes  \n",
            "125             no  \n",
            "126            yes  \n",
            "127             no  \n",
            "\n",
            "[128 rows x 7 columns]\n"
          ]
        }
      ],
      "source": [
        "# Inspect the content of communities_and_crime\n",
        "print(communities_and_crime.metadata)\n",
        "print(communities_and_crime.variables)"
      ]
    },
    {
      "cell_type": "markdown",
      "metadata": {
        "id": "GiPAjQe5inWC"
      },
      "source": [
        "We notice that there are 127 features, including potential targets for our predictive purposes. For our prediction model, we will have to select a subset of features in order to avoid dimensionality to interfere with our model.\n",
        "\n",
        "Moreover, we notice that there's a high number of missing values in the dataset. This will need to be addressed to ensure our prediction model can be trained without any issues."
      ]
    },
    {
      "cell_type": "code",
      "execution_count": 102,
      "metadata": {
        "colab": {
          "base_uri": "https://localhost:8080/"
        },
        "id": "yVL_t8vZIuhY",
        "outputId": "6095345f-392c-417e-a287-48526b99c39b"
      },
      "outputs": [
        {
          "name": "stdout",
          "output_type": "stream",
          "text": [
            "county                  1174\n",
            "community               1177\n",
            "OtherPerCap                1\n",
            "LemasSwornFT            1675\n",
            "LemasSwFTPerPop         1675\n",
            "LemasSwFTFieldOps       1675\n",
            "LemasSwFTFieldPerPop    1675\n",
            "LemasTotalReq           1675\n",
            "LemasTotReqPerPop       1675\n",
            "PolicReqPerOffic        1675\n",
            "PolicPerPop             1675\n",
            "RacialMatchCommPol      1675\n",
            "PctPolicWhite           1675\n",
            "PctPolicBlack           1675\n",
            "PctPolicHisp            1675\n",
            "PctPolicAsian           1675\n",
            "PctPolicMinor           1675\n",
            "OfficAssgnDrugUnits     1675\n",
            "NumKindsDrugsSeiz       1675\n",
            "PolicAveOTWorked        1675\n",
            "PolicCars               1675\n",
            "PolicOperBudg           1675\n",
            "LemasPctPolicOnPatr     1675\n",
            "LemasGangUnitDeploy     1675\n",
            "PolicBudgPerPop         1675\n",
            "dtype: int64\n"
          ]
        }
      ],
      "source": [
        "data_df.replace(\"?\", pd.NA, inplace=True)\n",
        "\n",
        "# Get the number of missing values in each column\n",
        "missing_values = data_df.isna().sum(axis=0)\n",
        "\n",
        "# Filter columns with missing values\n",
        "columns_with_missing_values = missing_values[missing_values > 0]\n",
        "\n",
        "print(columns_with_missing_values)"
      ]
    },
    {
      "cell_type": "markdown",
      "metadata": {
        "id": "S7n78OVTLN71"
      },
      "source": [
        "Let's remove columns that have a disproportionate amount of missing values from consideration."
      ]
    },
    {
      "cell_type": "code",
      "execution_count": 103,
      "metadata": {
        "colab": {
          "base_uri": "https://localhost:8080/"
        },
        "id": "EdTNpZwgI-5T",
        "outputId": "2dd2e6b2-9cfd-4153-becc-d0b2d51d216f"
      },
      "outputs": [
        {
          "name": "stdout",
          "output_type": "stream",
          "text": [
            "Number of columns removed: 25\n",
            "Columns with missing values: Series([], dtype: int64)\n"
          ]
        }
      ],
      "source": [
        "# Remove columns with missing values from the DataFrame\n",
        "df_cleaned = data_df.drop(columns=columns_with_missing_values.index)\n",
        "\n",
        "# Display the cleaned DataFrame\n",
        "print(f\"Number of columns removed: {len(columns_with_missing_values)}\")\n",
        "\n",
        "missing_values = df_cleaned.isna().sum(axis=0)\n",
        "\n",
        "print(f\"Columns with missing values: {missing_values[missing_values > 0]}\")"
      ]
    },
    {
      "cell_type": "markdown",
      "metadata": {
        "id": "pTDxMe3aLTbg"
      },
      "source": [
        "Now let's determine the correlation between the features and the target variable __ViolentCrimesPerPop__. Since we have a lot of features, our aim here is to"
      ]
    },
    {
      "cell_type": "code",
      "execution_count": 104,
      "metadata": {
        "colab": {
          "base_uri": "https://localhost:8080/",
          "height": 551
        },
        "id": "bJkOgf6TJ71v",
        "outputId": "9a9c89a6-2556-4b06-dab2-13fe917a5643"
      },
      "outputs": [
        {
          "data": {
            "text/html": [
              "<div>\n",
              "<style scoped>\n",
              "    .dataframe tbody tr th:only-of-type {\n",
              "        vertical-align: middle;\n",
              "    }\n",
              "\n",
              "    .dataframe tbody tr th {\n",
              "        vertical-align: top;\n",
              "    }\n",
              "\n",
              "    .dataframe thead th {\n",
              "        text-align: right;\n",
              "    }\n",
              "</style>\n",
              "<table border=\"1\" class=\"dataframe\">\n",
              "  <thead>\n",
              "    <tr style=\"text-align: right;\">\n",
              "      <th></th>\n",
              "      <th>index</th>\n",
              "      <th>ViolentCrimesPerPop</th>\n",
              "    </tr>\n",
              "  </thead>\n",
              "  <tbody>\n",
              "    <tr>\n",
              "      <th>4</th>\n",
              "      <td>racepctblack</td>\n",
              "      <td>0.631264</td>\n",
              "    </tr>\n",
              "    <tr>\n",
              "      <th>5</th>\n",
              "      <td>racePctWhite</td>\n",
              "      <td>-0.684770</td>\n",
              "    </tr>\n",
              "    <tr>\n",
              "      <th>17</th>\n",
              "      <td>pctWInvInc</td>\n",
              "      <td>-0.576324</td>\n",
              "    </tr>\n",
              "    <tr>\n",
              "      <th>19</th>\n",
              "      <td>pctWPubAsst</td>\n",
              "      <td>0.574665</td>\n",
              "    </tr>\n",
              "    <tr>\n",
              "      <th>29</th>\n",
              "      <td>PctPopUnderPov</td>\n",
              "      <td>0.521877</td>\n",
              "    </tr>\n",
              "    <tr>\n",
              "      <th>33</th>\n",
              "      <td>PctUnemployed</td>\n",
              "      <td>0.504235</td>\n",
              "    </tr>\n",
              "    <tr>\n",
              "      <th>39</th>\n",
              "      <td>MalePctDivorce</td>\n",
              "      <td>0.525407</td>\n",
              "    </tr>\n",
              "    <tr>\n",
              "      <th>41</th>\n",
              "      <td>FemalePctDiv</td>\n",
              "      <td>0.556032</td>\n",
              "    </tr>\n",
              "    <tr>\n",
              "      <th>42</th>\n",
              "      <td>TotalPctDiv</td>\n",
              "      <td>0.552777</td>\n",
              "    </tr>\n",
              "    <tr>\n",
              "      <th>44</th>\n",
              "      <td>PctFam2Par</td>\n",
              "      <td>-0.706667</td>\n",
              "    </tr>\n",
              "    <tr>\n",
              "      <th>45</th>\n",
              "      <td>PctKids2Par</td>\n",
              "      <td>-0.738424</td>\n",
              "    </tr>\n",
              "    <tr>\n",
              "      <th>46</th>\n",
              "      <td>PctYoungKids2Par</td>\n",
              "      <td>-0.666059</td>\n",
              "    </tr>\n",
              "    <tr>\n",
              "      <th>47</th>\n",
              "      <td>PctTeen2Par</td>\n",
              "      <td>-0.661582</td>\n",
              "    </tr>\n",
              "    <tr>\n",
              "      <th>51</th>\n",
              "      <td>PctIlleg</td>\n",
              "      <td>0.737957</td>\n",
              "    </tr>\n",
              "    <tr>\n",
              "      <th>68</th>\n",
              "      <td>PctPersOwnOccup</td>\n",
              "      <td>-0.525491</td>\n",
              "    </tr>\n",
              "    <tr>\n",
              "      <th>101</th>\n",
              "      <td>ViolentCrimesPerPop</td>\n",
              "      <td>1.000000</td>\n",
              "    </tr>\n",
              "  </tbody>\n",
              "</table>\n",
              "</div>"
            ],
            "text/plain": [
              "                   index  ViolentCrimesPerPop\n",
              "4           racepctblack             0.631264\n",
              "5           racePctWhite            -0.684770\n",
              "17            pctWInvInc            -0.576324\n",
              "19           pctWPubAsst             0.574665\n",
              "29        PctPopUnderPov             0.521877\n",
              "33         PctUnemployed             0.504235\n",
              "39        MalePctDivorce             0.525407\n",
              "41          FemalePctDiv             0.556032\n",
              "42           TotalPctDiv             0.552777\n",
              "44            PctFam2Par            -0.706667\n",
              "45           PctKids2Par            -0.738424\n",
              "46      PctYoungKids2Par            -0.666059\n",
              "47           PctTeen2Par            -0.661582\n",
              "51              PctIlleg             0.737957\n",
              "68       PctPersOwnOccup            -0.525491\n",
              "101  ViolentCrimesPerPop             1.000000"
            ]
          },
          "execution_count": 104,
          "metadata": {},
          "output_type": "execute_result"
        }
      ],
      "source": [
        "# Select only numeric columns\n",
        "numeric_df = df_cleaned.select_dtypes(include=[np.number])\n",
        "\n",
        "# Compute the correlation matrix\n",
        "correlation_matrix = numeric_df.corr()\n",
        "\n",
        "temp = correlation_matrix[\"ViolentCrimesPerPop\"].reset_index()\n",
        "\n",
        "correlation_threshold = 0.50\n",
        "\n",
        "high_correlation_df = temp[(temp[\"ViolentCrimesPerPop\"] < - correlation_threshold) | (temp[\"ViolentCrimesPerPop\"] > correlation_threshold)]\n",
        "\n",
        "high_correlation_df"
      ]
    },
    {
      "cell_type": "markdown",
      "metadata": {
        "id": "UiGXPgJjNRQZ"
      },
      "source": [
        "Now we have a set of features that are highly correlated to our target variable.\n",
        "\n",
        "We notice that __racepctblack__ and __racePctWhite__ are respectively highly positively correlation and highly negatively correlated with __ViolentCrimesPerPop__.\n",
        "\n",
        "This is clear indication the race distribution of a particular community is highly correlated with the violent crimes happening in that community.\n",
        "\n",
        "As a data analyst for US Criminal Justice Services, this might be an indication of biased data - given historical circumstances in which black communities have been marginalised and always been poorer than their white neighbouring communities. A lack of funds and resources might have created an enviroment where crime was the only action that guaranteed survival and potential financial benefit.\n",
        "\n",
        "Given that our sensitive position, we decide to omit the information related to race as an attempt to ensure that hte algorithm would discriminate on the base of race.\n",
        "\n",
        "Same thing applies for the __MalePctDivorce__ and __FemalePctDiv__, which might discriminate on the base of gender."
      ]
    },
    {
      "cell_type": "code",
      "execution_count": 105,
      "metadata": {
        "colab": {
          "base_uri": "https://localhost:8080/"
        },
        "id": "AcYspOwMQxa6",
        "outputId": "fc43ef98-8142-4b61-b2d1-190d69ec7ddd"
      },
      "outputs": [
        {
          "name": "stdout",
          "output_type": "stream",
          "text": [
            "Selected features: ['pctWInvInc' 'pctWPubAsst' 'PctPopUnderPov' 'PctUnemployed' 'TotalPctDiv'\n",
            " 'PctFam2Par' 'PctKids2Par' 'PctYoungKids2Par' 'PctTeen2Par' 'PctIlleg'\n",
            " 'PctPersOwnOccup']\n"
          ]
        }
      ],
      "source": [
        "high_correlation_features = high_correlation_df[~high_correlation_df[\"index\"].isin([\"racepctblack\", \"racePctWhite\",\n",
        "                                                                                    \"FemalePctDiv\", \"MalePctDivorce\",\n",
        "                                                                                    \"ViolentCrimesPerPop\"])][\"index\"].unique()\n",
        "\n",
        "print(f\"Selected features: {high_correlation_features}\")\n"
      ]
    },
    {
      "cell_type": "code",
      "execution_count": 106,
      "metadata": {
        "id": "_nwCzky9Lt9v"
      },
      "outputs": [],
      "source": [
        "#attributes = [\n",
        "#    \"racepctblack\",\n",
        "#    \"pctWInvInc\",\n",
        "#    \"pctWPubAsst\",\n",
        "#    \"NumUnderPov\",\n",
        "#    \"PctPopUnderPov\",\n",
        "#    \"PctUnemployed\",\n",
        "#    \"MalePctDivorce\",\n",
        "#    \"FemalePctDiv\",\n",
        "#    \"TotalPctDiv\",\n",
        "#    \"PersPerFam\",\n",
        "#    \"PctKids2Par\",\n",
        "#    \"PctYoungKids2Par\",\n",
        "#    \"PctTeen2Par\",\n",
        "#    \"PctPersOwnOccup\",\n",
        "#    \"HousVacant\",\n",
        "#    \"PctHousOwnOcc\",\n",
        "#    \"PctVacantBoarded\",\n",
        "#    \"NumInShelters\",\n",
        "#    \"NumStreet\",\n",
        "#    \"ViolentCrimesPerPop\"\n",
        "#]\n",
        "#\n",
        "#df = df[attributes]"
      ]
    },
    {
      "cell_type": "code",
      "execution_count": 107,
      "metadata": {
        "colab": {
          "base_uri": "https://localhost:8080/",
          "height": 223
        },
        "id": "nI6ePUTJp_rX",
        "outputId": "19c6ff3c-5f78-4b62-a321-ec027c63e833"
      },
      "outputs": [
        {
          "name": "stdout",
          "output_type": "stream",
          "text": [
            "High Crime Threshold: 0.48\n"
          ]
        },
        {
          "data": {
            "text/html": [
              "<div>\n",
              "<style scoped>\n",
              "    .dataframe tbody tr th:only-of-type {\n",
              "        vertical-align: middle;\n",
              "    }\n",
              "\n",
              "    .dataframe tbody tr th {\n",
              "        vertical-align: top;\n",
              "    }\n",
              "\n",
              "    .dataframe thead th {\n",
              "        text-align: right;\n",
              "    }\n",
              "</style>\n",
              "<table border=\"1\" class=\"dataframe\">\n",
              "  <thead>\n",
              "    <tr style=\"text-align: right;\">\n",
              "      <th></th>\n",
              "      <th>ViolentCrimesPerPop</th>\n",
              "      <th>HighCrime</th>\n",
              "    </tr>\n",
              "  </thead>\n",
              "  <tbody>\n",
              "    <tr>\n",
              "      <th>0</th>\n",
              "      <td>0.20</td>\n",
              "      <td>False</td>\n",
              "    </tr>\n",
              "    <tr>\n",
              "      <th>1</th>\n",
              "      <td>0.67</td>\n",
              "      <td>True</td>\n",
              "    </tr>\n",
              "    <tr>\n",
              "      <th>2</th>\n",
              "      <td>0.43</td>\n",
              "      <td>False</td>\n",
              "    </tr>\n",
              "    <tr>\n",
              "      <th>3</th>\n",
              "      <td>0.12</td>\n",
              "      <td>False</td>\n",
              "    </tr>\n",
              "    <tr>\n",
              "      <th>4</th>\n",
              "      <td>0.03</td>\n",
              "      <td>False</td>\n",
              "    </tr>\n",
              "  </tbody>\n",
              "</table>\n",
              "</div>"
            ],
            "text/plain": [
              "   ViolentCrimesPerPop  HighCrime\n",
              "0                 0.20      False\n",
              "1                 0.67       True\n",
              "2                 0.43      False\n",
              "3                 0.12      False\n",
              "4                 0.03      False"
            ]
          },
          "execution_count": 107,
          "metadata": {},
          "output_type": "execute_result"
        }
      ],
      "source": [
        "df_cleaned[\"ViolentCrimesPerPop\"] = df_cleaned[\"ViolentCrimesPerPop\"].astype(float)\n",
        "\n",
        "# Convert column to float, handle the warning by specifying the DataFrame properly if 'df' is a slice\n",
        "df_cleaned.loc[:, \"ViolentCrimesPerPop\"] = df_cleaned[\"ViolentCrimesPerPop\"].astype(float)\n",
        "\n",
        "# Calculate the 90th percentile\n",
        "high_crime_threshold = df_cleaned[\"ViolentCrimesPerPop\"].quantile(0.85)\n",
        "\n",
        "# Use this threshold to determine high crime areas\n",
        "df_cleaned['HighCrime'] = df_cleaned['ViolentCrimesPerPop'] >= high_crime_threshold\n",
        "\n",
        "# Display the threshold and the first few entries to check\n",
        "print(\"High Crime Threshold:\", high_crime_threshold)\n",
        "df_cleaned[['ViolentCrimesPerPop', 'HighCrime']].head()\n"
      ]
    },
    {
      "cell_type": "code",
      "execution_count": 108,
      "metadata": {
        "colab": {
          "base_uri": "https://localhost:8080/"
        },
        "id": "SJQeuiOpDftc",
        "outputId": "7324c612-b104-4ad1-d1aa-53a260cc358f"
      },
      "outputs": [
        {
          "data": {
            "text/plain": [
              "count      1994\n",
              "unique        2\n",
              "top       False\n",
              "freq       1686\n",
              "Name: HighCrime, dtype: object"
            ]
          },
          "execution_count": 108,
          "metadata": {},
          "output_type": "execute_result"
        }
      ],
      "source": [
        "df_cleaned[\"HighCrime\"].describe()"
      ]
    },
    {
      "cell_type": "code",
      "execution_count": 109,
      "metadata": {
        "colab": {
          "base_uri": "https://localhost:8080/",
          "height": 423
        },
        "id": "qBsIJR_DIhPj",
        "outputId": "815d0598-07e0-44de-bfeb-8ac6710dbda6"
      },
      "outputs": [
        {
          "data": {
            "text/html": [
              "<div>\n",
              "<style scoped>\n",
              "    .dataframe tbody tr th:only-of-type {\n",
              "        vertical-align: middle;\n",
              "    }\n",
              "\n",
              "    .dataframe tbody tr th {\n",
              "        vertical-align: top;\n",
              "    }\n",
              "\n",
              "    .dataframe thead th {\n",
              "        text-align: right;\n",
              "    }\n",
              "</style>\n",
              "<table border=\"1\" class=\"dataframe\">\n",
              "  <thead>\n",
              "    <tr style=\"text-align: right;\">\n",
              "      <th></th>\n",
              "      <th>racepctblack</th>\n",
              "      <th>racePctWhite</th>\n",
              "      <th>racePctAsian</th>\n",
              "      <th>racePctHisp</th>\n",
              "    </tr>\n",
              "  </thead>\n",
              "  <tbody>\n",
              "    <tr>\n",
              "      <th>0</th>\n",
              "      <td>0.02</td>\n",
              "      <td>0.90</td>\n",
              "      <td>0.12</td>\n",
              "      <td>0.17</td>\n",
              "    </tr>\n",
              "    <tr>\n",
              "      <th>1</th>\n",
              "      <td>0.12</td>\n",
              "      <td>0.74</td>\n",
              "      <td>0.45</td>\n",
              "      <td>0.07</td>\n",
              "    </tr>\n",
              "    <tr>\n",
              "      <th>2</th>\n",
              "      <td>0.49</td>\n",
              "      <td>0.56</td>\n",
              "      <td>0.17</td>\n",
              "      <td>0.04</td>\n",
              "    </tr>\n",
              "    <tr>\n",
              "      <th>3</th>\n",
              "      <td>1.00</td>\n",
              "      <td>0.08</td>\n",
              "      <td>0.12</td>\n",
              "      <td>0.10</td>\n",
              "    </tr>\n",
              "    <tr>\n",
              "      <th>4</th>\n",
              "      <td>0.02</td>\n",
              "      <td>0.95</td>\n",
              "      <td>0.09</td>\n",
              "      <td>0.05</td>\n",
              "    </tr>\n",
              "    <tr>\n",
              "      <th>...</th>\n",
              "      <td>...</td>\n",
              "      <td>...</td>\n",
              "      <td>...</td>\n",
              "      <td>...</td>\n",
              "    </tr>\n",
              "    <tr>\n",
              "      <th>1989</th>\n",
              "      <td>0.10</td>\n",
              "      <td>0.87</td>\n",
              "      <td>0.12</td>\n",
              "      <td>0.16</td>\n",
              "    </tr>\n",
              "    <tr>\n",
              "      <th>1990</th>\n",
              "      <td>0.46</td>\n",
              "      <td>0.28</td>\n",
              "      <td>0.83</td>\n",
              "      <td>0.32</td>\n",
              "    </tr>\n",
              "    <tr>\n",
              "      <th>1991</th>\n",
              "      <td>0.25</td>\n",
              "      <td>0.69</td>\n",
              "      <td>0.04</td>\n",
              "      <td>0.25</td>\n",
              "    </tr>\n",
              "    <tr>\n",
              "      <th>1992</th>\n",
              "      <td>0.06</td>\n",
              "      <td>0.87</td>\n",
              "      <td>0.22</td>\n",
              "      <td>0.10</td>\n",
              "    </tr>\n",
              "    <tr>\n",
              "      <th>1993</th>\n",
              "      <td>0.14</td>\n",
              "      <td>0.46</td>\n",
              "      <td>0.24</td>\n",
              "      <td>0.77</td>\n",
              "    </tr>\n",
              "  </tbody>\n",
              "</table>\n",
              "<p>1994 rows × 4 columns</p>\n",
              "</div>"
            ],
            "text/plain": [
              "      racepctblack  racePctWhite  racePctAsian  racePctHisp\n",
              "0             0.02          0.90          0.12         0.17\n",
              "1             0.12          0.74          0.45         0.07\n",
              "2             0.49          0.56          0.17         0.04\n",
              "3             1.00          0.08          0.12         0.10\n",
              "4             0.02          0.95          0.09         0.05\n",
              "...            ...           ...           ...          ...\n",
              "1989          0.10          0.87          0.12         0.16\n",
              "1990          0.46          0.28          0.83         0.32\n",
              "1991          0.25          0.69          0.04         0.25\n",
              "1992          0.06          0.87          0.22         0.10\n",
              "1993          0.14          0.46          0.24         0.77\n",
              "\n",
              "[1994 rows x 4 columns]"
            ]
          },
          "execution_count": 109,
          "metadata": {},
          "output_type": "execute_result"
        }
      ],
      "source": [
        "df_cleaned[[\"racepctblack\", \"racePctWhite\", \"racePctAsian\", \"racePctHisp\"]]"
      ]
    },
    {
      "cell_type": "code",
      "execution_count": 110,
      "metadata": {
        "colab": {
          "base_uri": "https://localhost:8080/"
        },
        "id": "7cBLY1TtI6Oj",
        "outputId": "5e50fbbe-2a93-40ed-e8ce-e0ed5c5d444b"
      },
      "outputs": [
        {
          "data": {
            "text/plain": [
              "count    1994.000000\n",
              "mean        0.179629\n",
              "std         0.253442\n",
              "min         0.000000\n",
              "25%         0.020000\n",
              "50%         0.060000\n",
              "75%         0.230000\n",
              "max         1.000000\n",
              "Name: racepctblack, dtype: float64"
            ]
          },
          "execution_count": 110,
          "metadata": {},
          "output_type": "execute_result"
        }
      ],
      "source": [
        "df_cleaned[\"racepctblack\"].describe()"
      ]
    },
    {
      "cell_type": "code",
      "execution_count": 111,
      "metadata": {
        "colab": {
          "base_uri": "https://localhost:8080/"
        },
        "id": "mLgIj-_Agz_3",
        "outputId": "6c9bf483-4ebe-4a97-d86d-3fc5a1967953"
      },
      "outputs": [
        {
          "name": "stdout",
          "output_type": "stream",
          "text": [
            "0.41\n"
          ]
        },
        {
          "data": {
            "text/plain": [
              "isBlack\n",
              "False    1699\n",
              "True      295\n",
              "Name: count, dtype: int64"
            ]
          },
          "execution_count": 111,
          "metadata": {},
          "output_type": "execute_result"
        }
      ],
      "source": [
        "black_community_threshold = df_cleaned[\"racepctblack\"].quantile(0.85)\n",
        "\n",
        "print(black_community_threshold)\n",
        "\n",
        "df_cleaned['isBlack'] = df_cleaned['racepctblack'] > black_community_threshold  # Define black communities\n",
        "\n",
        "df_cleaned['isBlack'].value_counts()"
      ]
    },
    {
      "cell_type": "code",
      "execution_count": 112,
      "metadata": {
        "id": "xtbE2uEWFhQj"
      },
      "outputs": [],
      "source": [
        "df = df_cleaned.copy()"
      ]
    },
    {
      "cell_type": "markdown",
      "metadata": {
        "id": "-E44pCUvSLo0"
      },
      "source": [
        "### Predictive Model"
      ]
    },
    {
      "cell_type": "code",
      "execution_count": 113,
      "metadata": {
        "id": "zPjPfLcCjsWB"
      },
      "outputs": [],
      "source": [
        "# Prepare the dataset with the selected features\n",
        "X = df[high_correlation_features]\n",
        "y = df['HighCrime']\n",
        "\n",
        "# Split the data into training and test sets\n",
        "from sklearn.model_selection import train_test_split\n",
        "X_train, X_test, y_train, y_test = train_test_split(X, y, test_size=0.3, random_state=random_state)"
      ]
    },
    {
      "cell_type": "code",
      "execution_count": 114,
      "metadata": {
        "colab": {
          "base_uri": "https://localhost:8080/"
        },
        "id": "Qh7yfaHlqWll",
        "outputId": "faf5308c-ebcf-4dbf-f98b-83ac2541db4f"
      },
      "outputs": [
        {
          "name": "stdout",
          "output_type": "stream",
          "text": [
            "Training Logistic Regression...\n"
          ]
        },
        {
          "name": "stdout",
          "output_type": "stream",
          "text": [
            "Best Logistic Regression F1 Score on train set: 0.6145877006175715\n",
            "Training Random Forest...\n",
            "Best Random Forest F1 Score on train set: 0.632809778743251\n",
            "Training Gradient Boosting...\n",
            "Best Gradient Boosting F1 Score on train set: 0.5967712392198425\n",
            "Training Support Vector Classifier...\n",
            "Best Support Vector Classifier F1 Score on train set: 0.597652079323906\n",
            "Training XGBoost...\n",
            "Best XGBoost F1 Score on train set: 0.6022100908370123\n",
            "Best model: Logistic Regression with F1 Score on test set: 0.5583333333333333\n",
            "F1 Score: 0.5583333333333333\n",
            "Accuracy: 0.8230383973288815\n",
            "Precision: 0.42138364779874216\n",
            "Recall: 0.8271604938271605\n"
          ]
        }
      ],
      "source": [
        "from sklearn.linear_model import LogisticRegression\n",
        "from sklearn.ensemble import RandomForestClassifier, GradientBoostingClassifier\n",
        "from sklearn.svm import SVC\n",
        "from xgboost import XGBClassifier\n",
        "from sklearn.metrics import f1_score\n",
        "from sklearn.model_selection import GridSearchCV\n",
        "\n",
        "# Initialize models\n",
        "models = {\n",
        "    'Logistic Regression': LogisticRegression(max_iter=1000, random_state=random_state, class_weight='balanced'),\n",
        "    'Random Forest': RandomForestClassifier(random_state=random_state, class_weight='balanced'),\n",
        "    'Gradient Boosting': GradientBoostingClassifier(random_state=random_state),\n",
        "    'Support Vector Classifier': SVC(random_state=random_state),\n",
        "    'XGBoost': XGBClassifier(random_state=random_state)\n",
        "}\n",
        "\n",
        "# Function to perform hyperparameter tuning\n",
        "def hyperparameter_tuning(model, param_grid):\n",
        "    grid_search = GridSearchCV(model, param_grid, cv=5, scoring='f1')  # Changed scoring from 'accuracy' to 'f1'\n",
        "    grid_search.fit(X_train, y_train)\n",
        "    return grid_search.best_estimator_, grid_search.best_score_\n",
        "\n",
        "# Hyperparameter grids\n",
        "param_grids = {\n",
        "    'Logistic Regression': {'C': [0.1, 1, 10]},\n",
        "    'Random Forest': {\n",
        "        'n_estimators': [100, 200, 300],\n",
        "        'max_depth': [10, 20, 30, None]\n",
        "    },\n",
        "    'Gradient Boosting': {\n",
        "        'n_estimators': [100, 200, 300],\n",
        "        'learning_rate': [0.01, 0.1, 0.2],\n",
        "        'max_depth': [3, 4, 5]\n",
        "    },\n",
        "    'Support Vector Classifier': {\n",
        "        'C': [0.1, 1, 10],\n",
        "        'gamma': ['scale', 'auto'],\n",
        "        'kernel': ['linear', 'rbf']\n",
        "    },\n",
        "    'XGBoost': {\n",
        "        'n_estimators': [100, 200, 300],\n",
        "        'learning_rate': [0.01, 0.1, 0.2],\n",
        "        'max_depth': [3, 4, 5]\n",
        "    }\n",
        "}\n",
        "\n",
        "# Train and evaluate models\n",
        "best_models = {}\n",
        "for model_name, model in models.items():\n",
        "    print(f\"Training {model_name}...\")\n",
        "    if param_grids[model_name]:\n",
        "        best_model, best_f1_score = hyperparameter_tuning(model, param_grids[model_name])\n",
        "        best_models[model_name] = best_model\n",
        "        print(f\"Best {model_name} F1 Score on train set: {best_f1_score}\")\n",
        "    else:\n",
        "        model.fit(X_train, y_train)\n",
        "        predictions = model.predict(X_test)\n",
        "        f1 = f1_score(y_test, predictions)\n",
        "        best_models[model_name] = model\n",
        "        print(f\"{model_name} F1 Score: {f1}\")\n",
        "\n",
        "# Select the best model\n",
        "best_model_name = max(best_models, key=lambda model: f1_score(y_test, best_models[model].predict(X_test)))\n",
        "best_model = best_models[\"Logistic Regression\"]\n",
        "best_model_f1 = f1_score(y_test, best_model.predict(X_test))\n",
        "\n",
        "print(f\"Best model: {best_model_name} with F1 Score on test set: {best_model_f1}\")\n",
        "\n",
        "# Calculate F1 Score\n",
        "f1 = f1_score(y_test, best_model.predict(X_test))\n",
        "print(\"F1 Score:\", f1)\n",
        "\n",
        "# Calculate Accuracy\n",
        "accuracy = accuracy_score(y_test, best_model.predict(X_test))\n",
        "print(\"Accuracy:\", accuracy)\n",
        "\n",
        "# Calculate Precision\n",
        "precision = precision_score(y_test, best_model.predict(X_test))\n",
        "print(\"Precision:\", precision)\n",
        "\n",
        "# Calculate Recall\n",
        "recall = recall_score(y_test, best_model.predict(X_test))\n",
        "print(\"Recall:\", recall)\n"
      ]
    },
    {
      "cell_type": "code",
      "execution_count": 115,
      "metadata": {
        "colab": {
          "base_uri": "https://localhost:8080/"
        },
        "id": "94BvEtgspuyF",
        "outputId": "95d3e001-c83e-4a04-93df-203c9ea15fc5"
      },
      "outputs": [
        {
          "name": "stdout",
          "output_type": "stream",
          "text": [
            "Best model: Logistic Regression with F1 Score on test set: 0.5583333333333333\n"
          ]
        }
      ],
      "source": [
        "# Select the best model\n",
        "best_model_name = max(best_models, key=lambda model: f1_score(y_test, best_models[model].predict(X_test)))\n",
        "best_model = best_models[best_model_name]\n",
        "best_model_f1 = f1_score(y_test, best_model.predict(X_test))\n",
        "\n",
        "print(f\"Best model: {best_model_name} with F1 Score on test set: {best_model_f1}\")"
      ]
    },
    {
      "cell_type": "markdown",
      "metadata": {
        "id": "kRdsm8fDnnVV"
      },
      "source": [
        "### Error Analysis"
      ]
    },
    {
      "cell_type": "code",
      "execution_count": 116,
      "metadata": {
        "colab": {
          "base_uri": "https://localhost:8080/",
          "height": 797
        },
        "id": "Z888VP7RmDQ-",
        "outputId": "6940f6ff-92ad-4cb3-a2ec-253a23072807"
      },
      "outputs": [
        {
          "name": "stdout",
          "output_type": "stream",
          "text": [
            "              precision    recall  f1-score   support\n",
            "\n",
            "       False       0.97      0.82      0.89       518\n",
            "        True       0.42      0.83      0.56        81\n",
            "\n",
            "    accuracy                           0.82       599\n",
            "   macro avg       0.69      0.82      0.72       599\n",
            "weighted avg       0.89      0.82      0.84       599\n",
            "\n"
          ]
        },
        {
          "data": {
            "image/png": "[encoded data removed]",
            "text/plain": [
              "<Figure size 1000x700 with 2 Axes>"
            ]
          },
          "metadata": {},
          "output_type": "display_data"
        }
      ],
      "source": [
        "from sklearn.metrics import classification_report, confusion_matrix\n",
        "\n",
        "# Predict on the test set\n",
        "y_pred = best_model.predict(X_test)\n",
        "\n",
        "# Get the classification report\n",
        "print(classification_report(y_test, y_pred))\n",
        "\n",
        "import seaborn as sns\n",
        "import matplotlib.pyplot as plt\n",
        "from sklearn.metrics import confusion_matrix\n",
        "import numpy as np\n",
        "\n",
        "cm = confusion_matrix(y_test, y_pred)\n",
        "\n",
        "# Create a heatmap using Seaborn\n",
        "plt.figure(figsize=(10, 7))\n",
        "sns.heatmap(cm, annot=True, fmt='d', cmap='Blues', xticklabels=['Predicted Negative', 'Predicted Positive'], yticklabels=['Actual Negative', 'Actual Positive'])\n",
        "plt.xlabel('Predicted')\n",
        "plt.ylabel('Actual')\n",
        "plt.title('Confusion Matrix')\n",
        "plt.show()\n"
      ]
    },
    {
      "cell_type": "markdown",
      "metadata": {
        "id": "2tkcjyqYLUM9"
      },
      "source": [
        "# Is the model fair?\n",
        "\n",
        "Our job as a data analysit working for the US Crimial Justice System has terminated. We have a model with 82% accuracy that can predict areas of high crime given demographic data. The model has an F1 score of 56%, that given our data imbalance we consider to be a good result.\n",
        "\n",
        "Let's assume this model goes into production and is used to send more patrol cars than usual to predicted high-crime areas. The model is fairly accurate, so we have enough data to justify this.\n",
        "\n",
        "We now however need to ask ourselves - is this model fair?"
      ]
    },
    {
      "cell_type": "code",
      "execution_count": 117,
      "metadata": {
        "colab": {
          "base_uri": "https://localhost:8080/",
          "height": 423
        },
        "id": "FjKR3_ormE73",
        "outputId": "7c2dcce5-9b76-4782-e8ac-51344c229442"
      },
      "outputs": [
        {
          "data": {
            "text/html": [
              "<div>\n",
              "<style scoped>\n",
              "    .dataframe tbody tr th:only-of-type {\n",
              "        vertical-align: middle;\n",
              "    }\n",
              "\n",
              "    .dataframe tbody tr th {\n",
              "        vertical-align: top;\n",
              "    }\n",
              "\n",
              "    .dataframe thead th {\n",
              "        text-align: right;\n",
              "    }\n",
              "</style>\n",
              "<table border=\"1\" class=\"dataframe\">\n",
              "  <thead>\n",
              "    <tr style=\"text-align: right;\">\n",
              "      <th></th>\n",
              "      <th>pred</th>\n",
              "      <th>actual</th>\n",
              "    </tr>\n",
              "  </thead>\n",
              "  <tbody>\n",
              "    <tr>\n",
              "      <th>2</th>\n",
              "      <td>True</td>\n",
              "      <td>False</td>\n",
              "    </tr>\n",
              "    <tr>\n",
              "      <th>15</th>\n",
              "      <td>False</td>\n",
              "      <td>False</td>\n",
              "    </tr>\n",
              "    <tr>\n",
              "      <th>23</th>\n",
              "      <td>False</td>\n",
              "      <td>True</td>\n",
              "    </tr>\n",
              "    <tr>\n",
              "      <th>29</th>\n",
              "      <td>False</td>\n",
              "      <td>False</td>\n",
              "    </tr>\n",
              "    <tr>\n",
              "      <th>30</th>\n",
              "      <td>False</td>\n",
              "      <td>False</td>\n",
              "    </tr>\n",
              "    <tr>\n",
              "      <th>...</th>\n",
              "      <td>...</td>\n",
              "      <td>...</td>\n",
              "    </tr>\n",
              "    <tr>\n",
              "      <th>1983</th>\n",
              "      <td>True</td>\n",
              "      <td>True</td>\n",
              "    </tr>\n",
              "    <tr>\n",
              "      <th>1984</th>\n",
              "      <td>False</td>\n",
              "      <td>False</td>\n",
              "    </tr>\n",
              "    <tr>\n",
              "      <th>1986</th>\n",
              "      <td>False</td>\n",
              "      <td>False</td>\n",
              "    </tr>\n",
              "    <tr>\n",
              "      <th>1989</th>\n",
              "      <td>False</td>\n",
              "      <td>False</td>\n",
              "    </tr>\n",
              "    <tr>\n",
              "      <th>1992</th>\n",
              "      <td>False</td>\n",
              "      <td>False</td>\n",
              "    </tr>\n",
              "  </tbody>\n",
              "</table>\n",
              "<p>599 rows × 2 columns</p>\n",
              "</div>"
            ],
            "text/plain": [
              "       pred  actual\n",
              "2      True   False\n",
              "15    False   False\n",
              "23    False    True\n",
              "29    False   False\n",
              "30    False   False\n",
              "...     ...     ...\n",
              "1983   True    True\n",
              "1984  False   False\n",
              "1986  False   False\n",
              "1989  False   False\n",
              "1992  False   False\n",
              "\n",
              "[599 rows x 2 columns]"
            ]
          },
          "execution_count": 117,
          "metadata": {},
          "output_type": "execute_result"
        }
      ],
      "source": [
        "# Assuming X_test is your features from the test split and y_test is the actual labels\n",
        "temp = X_test.copy()\n",
        "\n",
        "temp['pred'] = best_model.predict(temp)\n",
        "temp['actual'] = y_test\n",
        "#X_test['Black'] = X_test['racepctblack'] > 6  # Define black communities\n",
        "\n",
        "temp[[\"pred\", \"actual\"]].sort_index()"
      ]
    },
    {
      "cell_type": "code",
      "execution_count": 118,
      "metadata": {
        "colab": {
          "base_uri": "https://localhost:8080/"
        },
        "id": "W38WzdEl0_iL",
        "outputId": "d4a53135-34f0-41b0-835d-8ae06a2252c3"
      },
      "outputs": [
        {
          "name": "stdout",
          "output_type": "stream",
          "text": [
            "Result dataframe ready.\n"
          ]
        }
      ],
      "source": [
        "result_df = df[df.index.isin(temp[[\"pred\", \"actual\"]].sort_index().index)].join(temp[[\"pred\", \"actual\"]].sort_index())\n",
        "\n",
        "if sum(result_df[\"HighCrime\"] != result_df[\"actual\"]) != 0:\n",
        "  print(\"Mistmatch when joining dataframes!\")\n",
        "\n",
        "print(\"Result dataframe ready.\")"
      ]
    },
    {
      "cell_type": "code",
      "execution_count": 119,
      "metadata": {
        "colab": {
          "base_uri": "https://localhost:8080/"
        },
        "id": "BUyopRhVmImX",
        "outputId": "c6f8441c-51aa-4ea6-bd08-cc0030332380"
      },
      "outputs": [
        {
          "name": "stdout",
          "output_type": "stream",
          "text": [
            "Black Communities: TP: 46.59%, TN: 7.95%, FP: 44.32%, FN: 1.14%\n",
            "Non-Black Communities: TP: 5.09%, TN: 82.00%, FP: 10.37%, FN: 2.54%\n"
          ]
        }
      ],
      "source": [
        "# Initialize counts\n",
        "tp_black, tn_black, fp_black, fn_black = 0, 0, 0, 0\n",
        "tp_non_black, tn_non_black, fp_non_black, fn_non_black = 0, 0, 0, 0\n",
        "\n",
        "# Calculate counts for black communities\n",
        "tp_black = ((result_df['pred'] == 1) & (result_df['actual'] == 1) & (result_df['isBlack'])).sum()\n",
        "tn_black = ((result_df['pred'] == 0) & (result_df['actual'] == 0) & (result_df['isBlack'])).sum()\n",
        "fp_black = ((result_df['pred'] == 1) & (result_df['actual'] == 0) & (result_df['isBlack'])).sum()\n",
        "fn_black = ((result_df['pred'] == 0) & (result_df['actual'] == 1) & (result_df['isBlack'])).sum()\n",
        "\n",
        "# Calculate counts for non-black communities\n",
        "tp_non_black = ((result_df['pred'] == 1) & (result_df['actual'] == 1) & (~result_df['isBlack'])).sum()\n",
        "tn_non_black = ((result_df['pred'] == 0) & (result_df['actual'] == 0) & (~result_df['isBlack'])).sum()\n",
        "fp_non_black = ((result_df['pred'] == 1) & (result_df['actual'] == 0) & (~result_df['isBlack'])).sum()\n",
        "fn_non_black = ((result_df['pred'] == 0) & (result_df['actual'] == 1) & (~result_df['isBlack'])).sum()\n",
        "\n",
        "# Calculate total cases for percentage calculations\n",
        "total_black = tp_black + tn_black + fp_black + fn_black\n",
        "total_non_black = tp_non_black + tn_non_black + fp_non_black + fn_non_black\n",
        "\n",
        "# Calculate and print percentages\n",
        "print(f\"Black Communities: TP: {tp_black/total_black:.2%}, TN: {tn_black/total_black:.2%}, FP: {fp_black/total_black:.2%}, FN: {fn_black/total_black:.2%}\")\n",
        "print(f\"Non-Black Communities: TP: {tp_non_black/total_non_black:.2%}, TN: {tn_non_black/total_non_black:.2%}, FP: {fp_non_black/total_non_black:.2%}, FN: {fn_non_black/total_non_black:.2%}\")\n"
      ]
    },
    {
      "cell_type": "markdown",
      "metadata": {
        "id": "gcIbzYINcn-d"
      },
      "source": [
        "## Fairness through Group Parities"
      ]
    },
    {
      "cell_type": "markdown",
      "metadata": {
        "id": "dWXL1ySdp5Ms"
      },
      "source": [
        "### Statistical & Demographic parity\n",
        "\n",
        "Statistical/Demographic Parity assesses whether the proportion of positive outcomes (e.g. an area being predicted as high crime) is the same for all groups.\n",
        "\n",
        "We can see that in the case of our model, Statistical Parity is not satisfied."
      ]
    },
    {
      "cell_type": "code",
      "execution_count": 120,
      "metadata": {
        "colab": {
          "base_uri": "https://localhost:8080/"
        },
        "id": "XWW_ZL6PN4lK",
        "outputId": "b5685fbb-71d5-4c4f-8542-ea8ea12745ca"
      },
      "outputs": [
        {
          "name": "stdout",
          "output_type": "stream",
          "text": [
            "Positive class / black communities: 90.91%\n",
            "Positive class / non-black communities: 15.46%\n",
            "Negative class / black communities: 9.09%\n",
            "Negative class / non-black communities: 84.54%\n"
          ]
        }
      ],
      "source": [
        "print(f\"Positive class / black communities: {(tp_black + fp_black)/total_black:.2%}\")\n",
        "\n",
        "print(f\"Positive class / non-black communities: {(tp_non_black + fp_non_black)/total_non_black:.2%}\")\n",
        "\n",
        "print(f\"Negative class / black communities: {(tn_black + fn_black)/total_black:.2%}\")\n",
        "\n",
        "print(f\"Negative class / non-black communities: {(tn_non_black + fn_non_black)/total_non_black:.2%}\")"
      ]
    },
    {
      "cell_type": "code",
      "execution_count": 121,
      "metadata": {},
      "outputs": [
        {
          "name": "stdout",
          "output_type": "stream",
          "text": [
            "Positive class / black communities: 90.91%\n",
            "Positive class / non-black communities: 15.46%\n",
            "Negative class / black communities: 9.09%\n",
            "Negative class / non-black communities: 84.54%\n",
            " \n",
            "Statistical Parity - Overall Metrics\n",
            "  Positive Disparity Ratio: 5.9\n",
            "  Negative Disparity Ratio: 9.3\n"
          ]
        }
      ],
      "source": [
        "positive_black = (tp_black + fp_black) / total_black\n",
        "positive_non_black = (tp_non_black + fp_non_black) / total_non_black\n",
        "negative_black = (tn_black + fn_black)/total_black\n",
        "negative_non_black = (tn_non_black + fn_non_black)/total_non_black\n",
        "\n",
        "print(f\"Positive class / black communities: {(tp_black + fp_black)/total_black:.2%}\")\n",
        "print(f\"Positive class / non-black communities: {(tp_non_black + fp_non_black)/total_non_black:.2%}\")\n",
        "print(f\"Negative class / black communities: {(tn_black + fn_black)/total_black:.2%}\")\n",
        "print(f\"Negative class / non-black communities: {(tn_non_black + fn_non_black)/total_non_black:.2%}\")\n",
        "# Calculate disparity ratio for positive class\n",
        "# Avoid division by zero by adding a small number (epsilon) to the denominator\n",
        "epsilon = 1e-10\n",
        "positive_disparity_ratio_statistical = positive_black / (positive_non_black + epsilon)\n",
        "negative_disparity_ratio_statistical = negative_non_black / (negative_black + epsilon)\n",
        "print(\" \")\n",
        "print(\"Statistical Parity - Overall Metrics\")\n",
        "print(f\"  Positive Disparity Ratio: {positive_disparity_ratio_statistical:.2}\")\n",
        "print(f\"  Negative Disparity Ratio: {negative_disparity_ratio_statistical:.2}\")"
      ]
    },
    {
      "cell_type": "markdown",
      "metadata": {
        "id": "FK5deq1VSXCC"
      },
      "source": [
        "### Equality of opportunity\n",
        "\n",
        "According to conditional procedure accuracy equality (Berk et al., 2018), the members in each group who exhibit the same behavior should be treated equally in equal proportion"
      ]
    },
    {
      "cell_type": "code",
      "execution_count": 122,
      "metadata": {
        "colab": {
          "base_uri": "https://localhost:8080/"
        },
        "id": "8Fp9TliHSXc6",
        "outputId": "154f59fa-b276-4737-eb91-573c0812e358"
      },
      "outputs": [
        {
          "name": "stdout",
          "output_type": "stream",
          "text": [
            "Positive class / black communities: 97.62%\n",
            "Positive class / non-black communities: 66.67%\n",
            "Negative class / black communities: 15.22%\n",
            "Negative class / non-black communities: 88.77%\n"
          ]
        }
      ],
      "source": [
        "print(f\"Positive class / black communities: {tp_black/(tp_black + fn_black):.2%}\")\n",
        "\n",
        "print(f\"Positive class / non-black communities: {tp_non_black/(tp_non_black + fn_non_black):.2%}\")\n",
        "\n",
        "print(f\"Negative class / black communities: {tn_black/(tn_black + fp_black):.2%}\")\n",
        "\n",
        "print(f\"Negative class / non-black communities: {tn_non_black/(tn_non_black + fp_non_black):.2%}\")"
      ]
    },
    {
      "cell_type": "code",
      "execution_count": 123,
      "metadata": {
        "colab": {
          "base_uri": "https://localhost:8080/"
        },
        "id": "u97PyYkOSpi7",
        "outputId": "1a5db58a-7635-4811-cafc-51b5aeedb6b6"
      },
      "outputs": [
        {
          "name": "stdout",
          "output_type": "stream",
          "text": [
            "Positive class / black communities: 84.78%\n",
            "Positive class / non-black communities: 11.23%\n",
            "Negative class / black communities: 2.38%\n",
            "Negative class / non-black communities: 33.33%\n"
          ]
        }
      ],
      "source": [
        "print(f\"Positive class / black communities: {fp_black/(fp_black + tn_black):.2%}\")\n",
        "\n",
        "print(f\"Positive class / non-black communities: {fp_non_black/(fp_non_black + tn_non_black):.2%}\")\n",
        "\n",
        "print(f\"Negative class / black communities: {fn_black/(fn_black + tp_black):.2%}\")\n",
        "\n",
        "print(f\"Negative class / non-black communities: {fn_non_black/(fn_non_black + tp_non_black):.2%}\")"
      ]
    },
    {
      "cell_type": "code",
      "execution_count": 124,
      "metadata": {},
      "outputs": [
        {
          "name": "stdout",
          "output_type": "stream",
          "text": [
            "Positive class / black communities: 97.62%\n",
            "Positive class / non-black communities: 66.67%\n",
            "Negative class / black communities: 15.22%\n",
            "Negative class / non-black communities: 88.77%\n",
            " \n",
            "Equality of Opportunity - Overall Metrics\n",
            "  Positive Disparity Ratio: 1.5\n",
            "  Negative Disparity Ratio: 5.8\n"
          ]
        }
      ],
      "source": [
        "print(f\"Positive class / black communities: {tp_black/(tp_black + fn_black):.2%}\")\n",
        "print(f\"Positive class / non-black communities: {tp_non_black/(tp_non_black + fn_non_black):.2%}\")\n",
        "print(f\"Negative class / black communities: {tn_black/(tn_black + fp_black):.2%}\")\n",
        "print(f\"Negative class / non-black communities: {tn_non_black/(tn_non_black + fp_non_black):.2%}\")\n",
        "positive_black = tp_black/(tp_black + fn_black)\n",
        "positive_non_black = tp_non_black/(tp_non_black + fn_non_black)\n",
        "negative_black = tn_black/(tn_black + fp_black)\n",
        "negative_non_black = tn_non_black/(tn_non_black + fp_non_black)\n",
        "\n",
        "# Calculate disparity ratio for positive class\n",
        "# Avoid division by zero by adding a small number (epsilon) to the denominator\n",
        "epsilon = 1e-10\n",
        "positive_disparity_ratio_opportunity = positive_black / (positive_non_black + epsilon)\n",
        "negative_disparity_ratio_opportunity = negative_non_black / (negative_black + epsilon)\n",
        "print(\" \")\n",
        "print(\"Equality of Opportunity - Overall Metrics\")\n",
        "print(f\"  Positive Disparity Ratio: {positive_disparity_ratio_opportunity:.2}\")\n",
        "print(f\"  Negative Disparity Ratio: {negative_disparity_ratio_opportunity:.2}\")"
      ]
    },
    {
      "cell_type": "markdown",
      "metadata": {
        "id": "bAYFACS_UZVk"
      },
      "source": [
        "### Calibration\n",
        "\n",
        "According to calibration (Berk et al., 2018; Kleinberg et al., 2016), the proportion of correct predictions\n",
        "should be equal for each class within each group. Thus, the ratio between true positives (TP) and the total\n",
        "positive predictions (TP + FP) should be the same for both groups. Similarly, the ratio between true\n",
        "negatives (TN) and total negative predictions (TN + FN) should be equal in the two groups."
      ]
    },
    {
      "cell_type": "code",
      "execution_count": 125,
      "metadata": {
        "colab": {
          "base_uri": "https://localhost:8080/"
        },
        "id": "U7mzYve9UT8R",
        "outputId": "1c7672af-db48-4d37-f10b-ca9c438a9fca"
      },
      "outputs": [
        {
          "name": "stdout",
          "output_type": "stream",
          "text": [
            "Positive class / black communities: 51.25%\n",
            "Positive class / non-black communities: 32.91%\n",
            "Negative class / black communities: 87.50%\n",
            "Negative class / non-black communities: 96.99%\n"
          ]
        }
      ],
      "source": [
        "print(f\"Positive class / black communities: {tp_black/(tp_black + fp_black):.2%}\")\n",
        "\n",
        "print(f\"Positive class / non-black communities: {tp_non_black/(tp_non_black + fp_non_black):.2%}\")\n",
        "\n",
        "print(f\"Negative class / black communities: {tn_black/(tn_black + fn_black):.2%}\")\n",
        "\n",
        "print(f\"Negative class / non-black communities: {tn_non_black/(tn_non_black + fn_non_black):.2%}\")"
      ]
    },
    {
      "cell_type": "code",
      "execution_count": 126,
      "metadata": {},
      "outputs": [
        {
          "name": "stdout",
          "output_type": "stream",
          "text": [
            "Positive class / black communities: 51.25%\n",
            "Positive class / non-black communities: 32.91%\n",
            "Negative class / black communities: 87.50%\n",
            "Negative class / non-black communities: 96.99%\n",
            " \n",
            "Calibration - Overall Metrics\n",
            "  Positive Disparity Ratio: 1.6\n",
            "  Negative Disparity Ratio: 1.1\n"
          ]
        }
      ],
      "source": [
        "print(f\"Positive class / black communities: {tp_black/(tp_black + fp_black):.2%}\")\n",
        "print(f\"Positive class / non-black communities: {tp_non_black/(tp_non_black + fp_non_black):.2%}\")\n",
        "print(f\"Negative class / black communities: {tn_black/(tn_black + fn_black):.2%}\")\n",
        "print(f\"Negative class / non-black communities: {tn_non_black/(tn_non_black + fn_non_black):.2%}\")\n",
        "positive_black = tp_black/(tp_black + fp_black)\n",
        "positive_non_black = tp_non_black/(tp_non_black + fp_non_black)\n",
        "negative_black = tn_black/(tn_black + fn_black)\n",
        "negative_non_black = tn_non_black/(tn_non_black + fn_non_black)\n",
        "\n",
        "# Calculate disparity ratio for positive class\n",
        "# Avoid division by zero by adding a small number (epsilon) to the denominator\n",
        "epsilon = 1e-10\n",
        "positive_disparity_ratio_calibration = positive_black / (positive_non_black + epsilon)\n",
        "negative_disparity_ratio_calibration = negative_non_black / (negative_black + epsilon)\n",
        "print(\" \")\n",
        "print(\"Calibration - Overall Metrics\")\n",
        "print(f\"  Positive Disparity Ratio: {positive_disparity_ratio_calibration:.2}\")\n",
        "print(f\"  Negative Disparity Ratio: {negative_disparity_ratio_calibration:.2}\")"
      ]
    },
    {
      "cell_type": "markdown",
      "metadata": {
        "id": "zg1j4WFaUoNK"
      },
      "source": [
        "### False rate\n",
        "The false rate criterion can be considered as the other side of calibration. It measures the proportion of\n",
        "erroneous predictions for each class relative to the total predictions (Binns, 2020; Chouldechova, 2017;\n",
        "Barocas and Selbst, 2016). To satisfy this criterion, it is necessary that the ratio between false positives (FP)\n",
        "and the total amount of positive predictions (TP + FP) be equal in the two groups. The same applies to the\n",
        "negative class, where the ratio between false negatives (FN) and the total amount of negative predictions\n",
        "(TN + FN) should be equal within both groups."
      ]
    },
    {
      "cell_type": "code",
      "execution_count": 127,
      "metadata": {
        "colab": {
          "base_uri": "https://localhost:8080/"
        },
        "id": "CVLjzuf7UjGR",
        "outputId": "b6c05532-a11c-4aee-ae3d-b567e7e86c9f"
      },
      "outputs": [
        {
          "name": "stdout",
          "output_type": "stream",
          "text": [
            "Positive class / black communities: 48.75%\n",
            "Positive class / non-black communities: 67.09%\n",
            "Negative class / black communities: 12.50%\n",
            "Negative class / non-black communities: 3.01%\n"
          ]
        }
      ],
      "source": [
        "print(f\"Positive class / black communities: {fp_black/(tp_black + fp_black):.2%}\")\n",
        "\n",
        "print(f\"Positive class / non-black communities: {fp_non_black/(tp_non_black + fp_non_black):.2%}\")\n",
        "\n",
        "print(f\"Negative class / black communities: {fn_black/(tn_black + fn_black):.2%}\")\n",
        "\n",
        "print(f\"Negative class / non-black communities: {fn_non_black/(tn_non_black + fn_non_black):.2%}\")"
      ]
    },
    {
      "cell_type": "code",
      "execution_count": 128,
      "metadata": {},
      "outputs": [
        {
          "name": "stdout",
          "output_type": "stream",
          "text": [
            "Positive class / black communities: 48.75%\n",
            "Positive class / non-black communities: 67.09%\n",
            "Negative class / black communities: 12.50%\n",
            "Negative class / non-black communities: 3.01%\n",
            " \n",
            "False Rate - Overall Metrics\n",
            "  Positive Disparity Ratio: 0.73\n",
            "  Negative Disparity Ratio: 0.24\n"
          ]
        }
      ],
      "source": [
        "print(f\"Positive class / black communities: {fp_black/(tp_black + fp_black):.2%}\")\n",
        "print(f\"Positive class / non-black communities: {fp_non_black/(tp_non_black + fp_non_black):.2%}\")\n",
        "print(f\"Negative class / black communities: {fn_black/(tn_black + fn_black):.2%}\")\n",
        "print(f\"Negative class / non-black communities: {fn_non_black/(tn_non_black + fn_non_black):.2%}\")\n",
        "positive_black = fp_black/(tp_black + fp_black)\n",
        "positive_non_black = fp_non_black/(tp_non_black + fp_non_black)\n",
        "negative_black = fn_black/(tn_black + fn_black)\n",
        "negative_non_black = fn_non_black/(tn_non_black + fn_non_black)\n",
        "\n",
        "# Calculate disparity ratio for positive class\n",
        "# Avoid division by zero by adding a small number (epsilon) to the denominator\n",
        "epsilon = 1e-10\n",
        "positive_disparity_ratio_false_rate = positive_black / (positive_non_black + epsilon)\n",
        "negative_disparity_ratio_false_rate = negative_non_black / (negative_black + epsilon)\n",
        "print(\" \")\n",
        "print(\"False Rate - Overall Metrics\")\n",
        "print(f\"  Positive Disparity Ratio: {positive_disparity_ratio_false_rate:.2}\")\n",
        "print(f\"  Negative Disparity Ratio: {negative_disparity_ratio_false_rate:.2}\")"
      ]
    },
    {
      "cell_type": "markdown",
      "metadata": {
        "id": "RIdrTqyPU0Nn"
      },
      "source": [
        "### Treatment equality\n",
        "\n",
        "According to treatment equality, the ratio between errors in positive and negative predictions should be\n",
        "equal across all groups. Thus, in our example, the ratio between individuals erroneously classified as\n",
        "recidivists (FP) and those erroneously classified as non-recidivists (FN) should be equal for Blues and\n",
        "Greens. This criterion is aimed at ensuring that no group will be favored by the system’s misclassifications"
      ]
    },
    {
      "cell_type": "code",
      "execution_count": 129,
      "metadata": {
        "colab": {
          "base_uri": "https://localhost:8080/"
        },
        "id": "U-5XxVzoUxoS",
        "outputId": "6f3ea733-2b66-4419-b3dd-da254ee6796b"
      },
      "outputs": [
        {
          "name": "stdout",
          "output_type": "stream",
          "text": [
            "Positive class / black communities: 3900.00%\n",
            "Positive class / non-black communities: 407.69%\n",
            "Negative class / black communities: 2.56%\n",
            "Negative class / non-black communities: 24.53%\n"
          ]
        }
      ],
      "source": [
        "print(f\"Positive class / black communities: {fp_black/fn_black:.2%}\")\n",
        "\n",
        "print(f\"Positive class / non-black communities: {fp_non_black/fn_non_black:.2%}\")\n",
        "\n",
        "print(f\"Negative class / black communities: {fn_black/fp_black:.2%}\")\n",
        "\n",
        "print(f\"Negative class / non-black communities: {fn_non_black/fp_non_black:.2%}\")"
      ]
    },
    {
      "cell_type": "code",
      "execution_count": 130,
      "metadata": {},
      "outputs": [
        {
          "name": "stdout",
          "output_type": "stream",
          "text": [
            "Positive class / black communities: 3900.00%\n",
            "Positive class / non-black communities: 407.69%\n",
            "Negative class / black communities: 2.56%\n",
            "Negative class / non-black communities: 24.53%\n",
            " \n",
            "Treatment - Overall Metrics\n",
            "  Positive Disparity Ratio: 9.6\n",
            "  Negative Disparity Ratio: 9.6\n"
          ]
        }
      ],
      "source": [
        "print(f\"Positive class / black communities: {fp_black/fn_black:.2%}\")\n",
        "print(f\"Positive class / non-black communities: {fp_non_black/fn_non_black:.2%}\") \n",
        "print(f\"Negative class / black communities: {fn_black/fp_black:.2%}\")  \n",
        "print(f\"Negative class / non-black communities: {fn_non_black/fp_non_black:.2%}\")\n",
        "\n",
        "positive_black = fp_black/fn_black\n",
        "positive_non_black = fp_non_black/fn_non_black\n",
        "negative_black = fn_black/fp_black\n",
        "negative_non_black = fn_non_black/fp_non_black\n",
        "\n",
        "# Calculate disparity ratio for positive class\n",
        "# Avoid division by zero by adding a small number (epsilon) to the denominator\n",
        "epsilon = 1e-10\n",
        "positive_disparity_ratio_treatment = positive_black / (positive_non_black + epsilon)\n",
        "negative_disparity_ratio_treatment = negative_non_black / (negative_black + epsilon)\n",
        "print(\" \")\n",
        "print(\"Treatment - Overall Metrics\")\n",
        "print(f\"  Positive Disparity Ratio: {positive_disparity_ratio_treatment:.2}\")\n",
        "print(f\"  Negative Disparity Ratio: {negative_disparity_ratio_treatment:.2}\")"
      ]
    },
    {
      "cell_type": "markdown",
      "metadata": {
        "id": "4O6xxxUHeDwN"
      },
      "source": [
        "# Bias Analysis"
      ]
    },
    {
      "cell_type": "markdown",
      "metadata": {
        "id": "5vugugfeeXO8"
      },
      "source": [
        "### Data bias\n",
        "\n",
        "The predictive algorithm was trained using the Community and Crime dataset. Bias in the training data can lead to biased predictions - so we need to analyse the dataset and address any potential bias.\n",
        "\n",
        "Bias on this dataset may arise on historical circumstances that led to Black communities being subject to stricter policing and hence registered more crimes.\n",
        "Also the socio-economic conditions of Black communities in the US induces a higher crime rate that it would have otherwise.\n"
      ]
    },
    {
      "cell_type": "code",
      "execution_count": 131,
      "metadata": {
        "id": "bW-ukMeZVC0K"
      },
      "outputs": [
        {
          "data": {
            "text/html": [
              "<div>\n",
              "<style scoped>\n",
              "    .dataframe tbody tr th:only-of-type {\n",
              "        vertical-align: middle;\n",
              "    }\n",
              "\n",
              "    .dataframe tbody tr th {\n",
              "        vertical-align: top;\n",
              "    }\n",
              "\n",
              "    .dataframe thead th {\n",
              "        text-align: right;\n",
              "    }\n",
              "</style>\n",
              "<table border=\"1\" class=\"dataframe\">\n",
              "  <thead>\n",
              "    <tr style=\"text-align: right;\">\n",
              "      <th></th>\n",
              "      <th>racepctblack</th>\n",
              "      <th>ViolentCrimesPerPop</th>\n",
              "    </tr>\n",
              "  </thead>\n",
              "  <tbody>\n",
              "    <tr>\n",
              "      <th>racepctblack</th>\n",
              "      <td>1.000000</td>\n",
              "      <td>0.631264</td>\n",
              "    </tr>\n",
              "    <tr>\n",
              "      <th>ViolentCrimesPerPop</th>\n",
              "      <td>0.631264</td>\n",
              "      <td>1.000000</td>\n",
              "    </tr>\n",
              "  </tbody>\n",
              "</table>\n",
              "</div>"
            ],
            "text/plain": [
              "                     racepctblack  ViolentCrimesPerPop\n",
              "racepctblack             1.000000             0.631264\n",
              "ViolentCrimesPerPop      0.631264             1.000000"
            ]
          },
          "execution_count": 131,
          "metadata": {},
          "output_type": "execute_result"
        }
      ],
      "source": [
        "df[[\"racepctblack\", \"ViolentCrimesPerPop\"]].corr()"
      ]
    },
    {
      "cell_type": "code",
      "execution_count": 132,
      "metadata": {},
      "outputs": [
        {
          "data": {
            "text/html": [
              "<div>\n",
              "<style scoped>\n",
              "    .dataframe tbody tr th:only-of-type {\n",
              "        vertical-align: middle;\n",
              "    }\n",
              "\n",
              "    .dataframe tbody tr th {\n",
              "        vertical-align: top;\n",
              "    }\n",
              "\n",
              "    .dataframe thead th {\n",
              "        text-align: right;\n",
              "    }\n",
              "</style>\n",
              "<table border=\"1\" class=\"dataframe\">\n",
              "  <thead>\n",
              "    <tr style=\"text-align: right;\">\n",
              "      <th></th>\n",
              "      <th>racePctWhite</th>\n",
              "      <th>ViolentCrimesPerPop</th>\n",
              "    </tr>\n",
              "  </thead>\n",
              "  <tbody>\n",
              "    <tr>\n",
              "      <th>racePctWhite</th>\n",
              "      <td>1.00000</td>\n",
              "      <td>-0.68477</td>\n",
              "    </tr>\n",
              "    <tr>\n",
              "      <th>ViolentCrimesPerPop</th>\n",
              "      <td>-0.68477</td>\n",
              "      <td>1.00000</td>\n",
              "    </tr>\n",
              "  </tbody>\n",
              "</table>\n",
              "</div>"
            ],
            "text/plain": [
              "                     racePctWhite  ViolentCrimesPerPop\n",
              "racePctWhite              1.00000             -0.68477\n",
              "ViolentCrimesPerPop      -0.68477              1.00000"
            ]
          },
          "execution_count": 132,
          "metadata": {},
          "output_type": "execute_result"
        }
      ],
      "source": [
        "df[[\"racePctWhite\", \"ViolentCrimesPerPop\"]].corr()"
      ]
    },
    {
      "cell_type": "markdown",
      "metadata": {},
      "source": [
        "There's a high positive correlation between __recepctblack__ and __ViolentCrimesPerPop__. So already in the data we see how it appears that areas for which there is a high percentage of black people the crime rates are higher. \n",
        "In a similar manner, we see how instead __recePctWhite__ and __ViolentCrimesPerPop__ are negatively correlated, which indicates that areas with predominantly white demographic shows low levels of crime. "
      ]
    },
    {
      "cell_type": "code",
      "execution_count": 133,
      "metadata": {},
      "outputs": [],
      "source": [
        "# Reweighting based on racepctblack\n",
        "def calculate_weights(df, target_column, sensitive_attribute):\n",
        "    weights = df.groupby(sensitive_attribute)[target_column].transform('count')\n",
        "    weights = 1 / weights\n",
        "    df['weights'] = weights\n",
        "    return df\n",
        "\n",
        "df = calculate_weights(df, 'HighCrime', 'racepctblack')"
      ]
    },
    {
      "cell_type": "markdown",
      "metadata": {},
      "source": [
        "## Developing a fairer policing algorithm"
      ]
    },
    {
      "cell_type": "markdown",
      "metadata": {},
      "source": [
        "### Functions"
      ]
    },
    {
      "cell_type": "code",
      "execution_count": 134,
      "metadata": {},
      "outputs": [],
      "source": [
        "def metrics_count(result_df):\n",
        "   # Initialize counts\n",
        "  tp_black, tn_black, fp_black, fn_black = 0, 0, 0, 0\n",
        "  tp_non_black, tn_non_black, fp_non_black, fn_non_black = 0, 0, 0, 0\n",
        "\n",
        "  # Calculate counts for black communities\n",
        "  tp_black = ((result_df['pred'] == 1) & (result_df['actual'] == 1) & (result_df['isBlack'])).sum()\n",
        "  tn_black = ((result_df['pred'] == 0) & (result_df['actual'] == 0) & (result_df['isBlack'])).sum()\n",
        "  fp_black = ((result_df['pred'] == 1) & (result_df['actual'] == 0) & (result_df['isBlack'])).sum()\n",
        "  fn_black = ((result_df['pred'] == 0) & (result_df['actual'] == 1) & (result_df['isBlack'])).sum()\n",
        "\n",
        "  # Calculate counts for non-black communities\n",
        "  tp_non_black = ((result_df['pred'] == 1) & (result_df['actual'] == 1) & (~result_df['isBlack'])).sum()\n",
        "  tn_non_black = ((result_df['pred'] == 0) & (result_df['actual'] == 0) & (~result_df['isBlack'])).sum()\n",
        "  fp_non_black = ((result_df['pred'] == 1) & (result_df['actual'] == 0) & (~result_df['isBlack'])).sum()\n",
        "  fn_non_black = ((result_df['pred'] == 0) & (result_df['actual'] == 1) & (~result_df['isBlack'])).sum()\n",
        "\n",
        "  # Calculate total cases for percentage calculations\n",
        "  total_black = tp_black + tn_black + fp_black + fn_black\n",
        "  total_non_black = tp_non_black + tn_non_black + fp_non_black + fn_non_black\n",
        "\n",
        "  # Calculate and print percentages\n",
        "  print(f\"Black Communities: TP: {tp_black/total_black:.2%}, TN: {tn_black/total_black:.2%}, FP: {fp_black/total_black:.2%}, FN: {fn_black/total_black:.2%}\")\n",
        "  print(f\"Non-Black Communities: TP: {tp_non_black/total_non_black:.2%}, TN: {tn_non_black/total_non_black:.2%}, FP: {fp_non_black/total_non_black:.2%}, FN: {fn_non_black/total_non_black:.2%}\")\n",
        "\n",
        "  return tp_black, tn_black, fp_black, fn_black, tp_non_black, tn_non_black, fp_non_black, fn_non_black, total_black, total_non_black\n",
        "\n",
        "\n",
        "def statistical_parity(tp_black, tn_black, fp_black, fn_black, tp_non_black, tn_non_black, fp_non_black, fn_non_black, total_black, total_non_black):\n",
        "  print(\" \")\n",
        "  print(\"STATISTICAL PARITY\")\n",
        "  print(\"-\" * 10)\n",
        "\n",
        "  positive_black = (tp_black + fp_black) / total_black\n",
        "  positive_non_black = (tp_non_black + fp_non_black) / total_non_black\n",
        "  negative_black = (tn_black + fn_black)/total_black\n",
        "  negative_non_black = (tn_non_black + fn_non_black)/total_non_black\n",
        "  \n",
        "  print(f\"Positive class / black communities: {(tp_black + fp_black)/total_black:.2%}\")\n",
        "  print(f\"Positive class / non-black communities: {(tp_non_black + fp_non_black)/total_non_black:.2%}\")\n",
        "  print(f\"Negative class / black communities: {(tn_black + fn_black)/total_black:.2%}\")\n",
        "  print(f\"Negative class / non-black communities: {(tn_non_black + fn_non_black)/total_non_black:.2%}\")\n",
        "\n",
        "  # Calculate disparity ratio for positive class\n",
        "  # Avoid division by zero by adding a small number (epsilon) to the denominator\n",
        "  epsilon = 1e-10\n",
        "  positive_disparity_ratio_statistical = positive_black / (positive_non_black + epsilon)\n",
        "  negative_disparity_ratio_statistical = negative_non_black / (negative_black + epsilon)\n",
        "\n",
        "  print(\" \")\n",
        "  print(\"Statistical Parity - Overall Metrics\")\n",
        "  print(f\"  Positive Disparity Ratio: {positive_disparity_ratio_statistical:.2}\")\n",
        "  print(f\"  Negative Disparity Ratio: {negative_disparity_ratio_statistical:.2}\")\n",
        "\n",
        "  return positive_disparity_ratio_statistical, negative_disparity_ratio_statistical\n",
        "\n",
        "def equality_of_opportunity(tp_black, tn_black, fp_black, fn_black, tp_non_black, tn_non_black, fp_non_black, fn_non_black):\n",
        "  print(\" \")\n",
        "  print(\"EQUALITY OF OPPORTUNITY\")\n",
        "  print(\"-\" * 10)\n",
        "\n",
        "  print(f\"Positive class / black communities: {tp_black/(tp_black + fn_black):.2%}\")\n",
        "  print(f\"Positive class / non-black communities: {tp_non_black/(tp_non_black + fn_non_black):.2%}\")\n",
        "  print(f\"Negative class / black communities: {tn_black/(tn_black + fp_black):.2%}\")\n",
        "  print(f\"Negative class / non-black communities: {tn_non_black/(tn_non_black + fp_non_black):.2%}\")\n",
        "\n",
        "  positive_black = tp_black/(tp_black + fn_black)\n",
        "  positive_non_black = tp_non_black/(tp_non_black + fn_non_black)\n",
        "  negative_black = tn_black/(tn_black + fp_black)\n",
        "  negative_non_black = tn_non_black/(tn_non_black + fp_non_black)\n",
        "  \n",
        "  # Calculate disparity ratio for positive class\n",
        "  # Avoid division by zero by adding a small number (epsilon) to the denominator\n",
        "  epsilon = 1e-10\n",
        "  positive_disparity_ratio_opportunity = positive_black / (positive_non_black + epsilon)\n",
        "  negative_disparity_ratio_opportunity = negative_non_black / (negative_black + epsilon)\n",
        "\n",
        "  print(\" \")\n",
        "  print(\"Equality of Opportunity - Overall Metrics\")\n",
        "  print(f\"  Positive Disparity Ratio: {positive_disparity_ratio_opportunity:.2}\")\n",
        "  print(f\"  Negative Disparity Ratio: {negative_disparity_ratio_opportunity:.2}\")\n",
        "  \n",
        "  return positive_disparity_ratio_opportunity, negative_disparity_ratio_opportunity\n",
        "\n",
        "def calibration(tp_black, tn_black, fp_black, fn_black, tp_non_black, tn_non_black, fp_non_black, fn_non_black):\n",
        "  print(\" \")\n",
        "  print(\"CALIBRATION\")\n",
        "  print(\"-\" * 10)\n",
        "\n",
        "  print(f\"Positive class / black communities: {tp_black/(tp_black + fp_black):.2%}\")\n",
        "  print(f\"Positive class / non-black communities: {tp_non_black/(tp_non_black + fp_non_black):.2%}\")\n",
        "  print(f\"Negative class / black communities: {tn_black/(tn_black + fn_black):.2%}\")\n",
        "  print(f\"Negative class / non-black communities: {tn_non_black/(tn_non_black + fn_non_black):.2%}\")\n",
        "\n",
        "  positive_black = tp_black/(tp_black + fp_black)\n",
        "  positive_non_black = tp_non_black/(tp_non_black + fp_non_black)\n",
        "  negative_black = tn_black/(tn_black + fn_black)\n",
        "  negative_non_black = tn_non_black/(tn_non_black + fn_non_black)\n",
        "  \n",
        "  # Calculate disparity ratio for positive class\n",
        "  # Avoid division by zero by adding a small number (epsilon) to the denominator\n",
        "  epsilon = 1e-10\n",
        "  positive_disparity_ratio_calibration = positive_black / (positive_non_black + epsilon)\n",
        "  negative_disparity_ratio_calibration = negative_non_black / (negative_black + epsilon)\n",
        "\n",
        "  print(\" \")\n",
        "  print(\"Calibration - Overall Metrics\")\n",
        "  print(f\"  Positive Disparity Ratio: {positive_disparity_ratio_calibration:.2}\")\n",
        "  print(f\"  Negative Disparity Ratio: {negative_disparity_ratio_calibration:.2}\")\n",
        "  \n",
        "  return positive_disparity_ratio_calibration, negative_disparity_ratio_calibration\n",
        "\n",
        "def false_rate(tp_black, tn_black, fp_black, fn_black, tp_non_black, tn_non_black, fp_non_black, fn_non_black):\n",
        "  print(\" \")\n",
        "  print(\"FALSE RATE\")\n",
        "  print(\"-\" * 10)\n",
        "\n",
        "  print(f\"Positive class / black communities: {fp_black/(tp_black + fp_black):.2%}\")\n",
        "  print(f\"Positive class / non-black communities: {fp_non_black/(tp_non_black + fp_non_black):.2%}\")\n",
        "  print(f\"Negative class / black communities: {fn_black/(tn_black + fn_black):.2%}\")\n",
        "  print(f\"Negative class / non-black communities: {fn_non_black/(tn_non_black + fn_non_black):.2%}\")\n",
        "\n",
        "  positive_black = fp_black/(tp_black + fp_black)\n",
        "  positive_non_black = fp_non_black/(tp_non_black + fp_non_black)\n",
        "  negative_black = fn_black/(tn_black + fn_black)\n",
        "  negative_non_black = fn_non_black/(tn_non_black + fn_non_black)\n",
        "  \n",
        "  # Calculate disparity ratio for positive class\n",
        "  # Avoid division by zero by adding a small number (epsilon) to the denominator\n",
        "  epsilon = 1e-10\n",
        "  positive_disparity_ratio_false_rate = positive_black / (positive_non_black + epsilon)\n",
        "  negative_disparity_ratio_false_rate = negative_non_black / (negative_black + epsilon)\n",
        "\n",
        "  print(\" \")\n",
        "  print(\"False Rate - Overall Metrics\")\n",
        "  print(f\"  Positive Disparity Ratio: {positive_disparity_ratio_false_rate:.2}\")\n",
        "  print(f\"  Negative Disparity Ratio: {negative_disparity_ratio_false_rate:.2}\")\n",
        "  \n",
        "  return positive_disparity_ratio_false_rate, negative_disparity_ratio_false_rate\n",
        "\n",
        "def treatment_equality(tp_black, tn_black, fp_black, fn_black, tp_non_black, tn_non_black, fp_non_black, fn_non_black):\n",
        "  print(\" \")\n",
        "  print(\"TREATMENT\")\n",
        "  print(\"-\" * 10) \n",
        "\n",
        "  print(f\"Positive class / black communities: {fp_black/fn_black:.2%}\")\n",
        "  print(f\"Positive class / non-black communities: {fp_non_black/fn_non_black:.2%}\") \n",
        "  print(f\"Negative class / black communities: {fn_black/fp_black:.2%}\")  \n",
        "  print(f\"Negative class / non-black communities: {fn_non_black/fp_non_black:.2%}\")\n",
        "  \n",
        "  positive_black = fp_black/fn_black\n",
        "  positive_non_black = fp_non_black/fn_non_black\n",
        "  negative_black = fn_black/fp_black\n",
        "  negative_non_black = fn_non_black/fp_non_black\n",
        "  \n",
        "  # Calculate disparity ratio for positive class\n",
        "  # Avoid division by zero by adding a small number (epsilon) to the denominator\n",
        "  epsilon = 1e-10\n",
        "  positive_disparity_ratio_treatment = positive_black / (positive_non_black + epsilon)\n",
        "  negative_disparity_ratio_treatment = negative_non_black / (negative_black + epsilon)\n",
        "\n",
        "  print(\" \")\n",
        "  print(\"Treatment - Overall Metrics\")\n",
        "  print(f\"  Positive Disparity Ratio: {positive_disparity_ratio_treatment:.2}\")\n",
        "  print(f\"  Negative Disparity Ratio: {negative_disparity_ratio_treatment:.2}\")\n",
        "  \n",
        "  return positive_disparity_ratio_treatment, negative_disparity_ratio_treatment\n",
        "\n",
        "\n",
        "def fairness_metrics(model, x_test, df, custom_loss=False, adversarial=False):\n",
        "    print(\"FAIRNESS METRICS\")\n",
        "    print(\"\")\n",
        "\n",
        "    if adversarial:\n",
        "        # Convert the TensorFlow tensor to a NumPy array\n",
        "        X_test_np = X_test.numpy()\n",
        "\n",
        "        # Convert the NumPy array to a Pandas DataFrame\n",
        "        # Assuming you know the column names, which you can obtain from the original DataFrame before tensor conversion\n",
        "        column_names = df[high_correlation_features].columns\n",
        "        X_test_df = pd.DataFrame(X_test_np, columns=column_names)\n",
        "\n",
        "        # Now you can use the copy() method\n",
        "        temp = X_test_df.copy()\n",
        "        print(temp.head())\n",
        "    else:\n",
        "      # Assuming X_test is your features from the test split and y_test is the actual labels\n",
        "      temp = x_test.copy()\n",
        "\n",
        "    if custom_loss or adversarial:\n",
        "      temp['pred'] = model.predict(temp) > 0.50\n",
        "    else:\n",
        "      temp['pred'] = model.predict(temp)\n",
        "    temp['actual'] = y_test\n",
        "    #X_test['Black'] = X_test['racepctblack'] > 6  # Define black communities\n",
        "\n",
        "    result_df = df[df.index.isin(temp[[\"pred\", \"actual\"]].sort_index().index)].join(temp[[\"pred\", \"actual\"]].sort_index())\n",
        "\n",
        "    if sum(result_df[\"HighCrime\"] != result_df[\"actual\"]) != 0:\n",
        "      print(\"Mistmatch when joining dataframes!\")\n",
        "    \n",
        "    print(\"Result dataframe ready.\")\n",
        "\n",
        "    tp_black, tn_black, fp_black, fn_black, tp_non_black, tn_non_black, fp_non_black, fn_non_black, total_black, total_non_black = metrics_count(result_df)\n",
        "    \n",
        "    positive_disparity_ratio_statistical, negative_disparity_ratio_statistical = statistical_parity(tp_black, tn_black, fp_black, fn_black, tp_non_black, tn_non_black, fp_non_black, fn_non_black, total_black, total_non_black)\n",
        "    positive_disparity_ratio_opportunity, negative_disparity_ratio_opportunity = equality_of_opportunity(tp_black, tn_black, fp_black, fn_black, tp_non_black, tn_non_black, fp_non_black, fn_non_black)\n",
        "    positive_disparity_ratio_calibration, negative_disparity_ratio_calibration = calibration(tp_black, tn_black, fp_black, fn_black, tp_non_black, tn_non_black, fp_non_black, fn_non_black)\n",
        "    positive_disparity_ratio_false_rate, negative_disparity_ratio_false_rate = false_rate(tp_black, tn_black, fp_black, fn_black, tp_non_black, tn_non_black, fp_non_black, fn_non_black)\n",
        "    positive_disparity_ratio_treatment, negative_disparity_ratio_treatment = treatment_equality(tp_black, tn_black, fp_black, fn_black, tp_non_black, tn_non_black, fp_non_black, fn_non_black)\n",
        "\n",
        "    return positive_disparity_ratio_statistical, negative_disparity_ratio_statistical, positive_disparity_ratio_opportunity, negative_disparity_ratio_opportunity, positive_disparity_ratio_calibration, negative_disparity_ratio_calibration, positive_disparity_ratio_false_rate, negative_disparity_ratio_false_rate, positive_disparity_ratio_treatment, negative_disparity_ratio_treatment"
      ]
    },
    {
      "cell_type": "markdown",
      "metadata": {},
      "source": [
        "### Reweighting"
      ]
    },
    {
      "cell_type": "code",
      "execution_count": 135,
      "metadata": {},
      "outputs": [],
      "source": [
        "# Prepare the dataset with the selected features\n",
        "X = df[high_correlation_features]\n",
        "y = df['HighCrime']\n",
        "\n",
        "# Split the data into training and test sets\n",
        "from sklearn.model_selection import train_test_split\n",
        "X_train, X_test, y_train, y_test, weights_train, weights_test = train_test_split(\n",
        "    X, y, df['weights'], test_size=0.3, random_state=42)"
      ]
    },
    {
      "cell_type": "code",
      "execution_count": 136,
      "metadata": {},
      "outputs": [
        {
          "name": "stdout",
          "output_type": "stream",
          "text": [
            "Training Logistic Regression...\n",
            "Best Logistic Regression F1 Score on train set: 0.5493003106059968\n",
            "Training Random Forest...\n"
          ]
        },
        {
          "name": "stdout",
          "output_type": "stream",
          "text": [
            "Best Random Forest F1 Score on train set: 0.6193260106749003\n",
            "Training Gradient Boosting...\n",
            "Best Gradient Boosting F1 Score on train set: 0.5904366685945633\n",
            "Training Support Vector Classifier...\n",
            "Best Support Vector Classifier F1 Score on train set: 0.5721644333409039\n",
            "Training XGBoost...\n",
            "Best XGBoost F1 Score on train set: 0.581877846839087\n",
            "Best model: Random Forest with F1 Score on test set: 0.4808362369337979\n",
            "F1 Score: 0.4808362369337979\n",
            "Accuracy: 0.7512520868113522\n",
            "Precision: 0.33495145631067963\n",
            "Recall: 0.8518518518518519\n"
          ]
        }
      ],
      "source": [
        "from sklearn.linear_model import LogisticRegression\n",
        "from sklearn.ensemble import RandomForestClassifier, GradientBoostingClassifier\n",
        "from sklearn.svm import SVC\n",
        "from xgboost import XGBClassifier\n",
        "from sklearn.metrics import f1_score\n",
        "from sklearn.model_selection import GridSearchCV\n",
        "\n",
        "# Initialize models\n",
        "models = {\n",
        "    'Logistic Regression': LogisticRegression(max_iter=1000, random_state=random_state, class_weight='balanced'),\n",
        "    'Random Forest': RandomForestClassifier(random_state=random_state, class_weight='balanced'),\n",
        "    'Gradient Boosting': GradientBoostingClassifier(random_state=random_state),\n",
        "    'Support Vector Classifier': SVC(random_state=random_state),\n",
        "    'XGBoost': XGBClassifier(random_state=random_state)\n",
        "}\n",
        "\n",
        "# Function to perform hyperparameter tuning\n",
        "def hyperparameter_tuning(model, param_grid):\n",
        "    grid_search = GridSearchCV(model, param_grid, cv=5, scoring='f1')  # Changed scoring from 'accuracy' to 'f1'\n",
        "    grid_search.fit(X_train, y_train, sample_weight=weights_train)\n",
        "    return grid_search.best_estimator_, grid_search.best_score_\n",
        "\n",
        "# Hyperparameter grids\n",
        "param_grids = {\n",
        "    'Logistic Regression': {'C': [0.1, 1, 10]},\n",
        "    'Random Forest': {\n",
        "        'n_estimators': [100, 200, 300],\n",
        "        'max_depth': [10, 20, 30, None]\n",
        "    },\n",
        "    'Gradient Boosting': {\n",
        "        'n_estimators': [100, 200, 300],\n",
        "        'learning_rate': [0.01, 0.1, 0.2],\n",
        "        'max_depth': [3, 4, 5]\n",
        "    },\n",
        "    'Support Vector Classifier': {\n",
        "        'C': [0.1, 1, 10],\n",
        "        'gamma': ['scale', 'auto'],\n",
        "        'kernel': ['linear', 'rbf']\n",
        "    },\n",
        "    'XGBoost': {\n",
        "        'n_estimators': [100, 200, 300],\n",
        "        'learning_rate': [0.01, 0.1, 0.2],\n",
        "        'max_depth': [3, 4, 5]\n",
        "    }\n",
        "}\n",
        "\n",
        "# Train and evaluate models\n",
        "best_models_reweighting = {}\n",
        "for model_name_reweighting, model_reweighting in models.items():\n",
        "    print(f\"Training {model_name_reweighting}...\")\n",
        "    if param_grids[model_name_reweighting]:\n",
        "        best_model_reweighting, best_f1_score_reweighting = hyperparameter_tuning(model_reweighting, param_grids[model_name_reweighting])\n",
        "        best_models_reweighting[model_name_reweighting] = best_model_reweighting\n",
        "        print(f\"Best {model_name_reweighting} F1 Score on train set: {best_f1_score_reweighting}\")\n",
        "    else:\n",
        "        model_reweighting.fit(X_train, y_train, sample_weight=weights_train)\n",
        "        predictions = model_reweighting.predict(X_test)\n",
        "        f1 = f1_score(y_test, predictions)\n",
        "        best_models_reweighting[model_name_reweighting] = model_reweighting\n",
        "        print(f\"{model_name_reweighting} F1 Score: {f1}\")\n",
        "\n",
        "# Select the best model\n",
        "best_model_name_reweighting = max(best_models_reweighting, key=lambda model_reweighting: f1_score(y_test, best_models_reweighting[model_reweighting].predict(X_test)))\n",
        "best_model_reweighting = best_models_reweighting[\"Logistic Regression\"]\n",
        "best_model_f1_reweighting = f1_score(y_test, best_model_reweighting.predict(X_test))\n",
        "\n",
        "print(f\"Best model: {best_model_name_reweighting} with F1 Score on test set: {best_model_f1_reweighting}\")\n",
        "\n",
        "# Calculate F1 Score\n",
        "f1 = f1_score(y_test, best_model_reweighting.predict(X_test))\n",
        "print(\"F1 Score:\", f1)\n",
        "\n",
        "# Calculate Accuracy\n",
        "accuracy = accuracy_score(y_test, best_model_reweighting.predict(X_test))\n",
        "print(\"Accuracy:\", accuracy)\n",
        "\n",
        "# Calculate Precision\n",
        "precision = precision_score(y_test, best_model_reweighting.predict(X_test))\n",
        "print(\"Precision:\", precision)\n",
        "\n",
        "# Calculate Recall\n",
        "recall = recall_score(y_test, best_model_reweighting.predict(X_test))\n",
        "print(\"Recall:\", recall)\n"
      ]
    },
    {
      "cell_type": "code",
      "execution_count": 137,
      "metadata": {},
      "outputs": [
        {
          "name": "stdout",
          "output_type": "stream",
          "text": [
            "              precision    recall  f1-score   support\n",
            "\n",
            "       False       0.97      0.74      0.84       518\n",
            "        True       0.33      0.85      0.48        81\n",
            "\n",
            "    accuracy                           0.75       599\n",
            "   macro avg       0.65      0.79      0.66       599\n",
            "weighted avg       0.88      0.75      0.79       599\n",
            "\n"
          ]
        },
        {
          "data": {
            "image/png": "[encoded data removed]",
            "text/plain": [
              "<Figure size 1000x700 with 2 Axes>"
            ]
          },
          "metadata": {},
          "output_type": "display_data"
        }
      ],
      "source": [
        "from sklearn.metrics import classification_report, confusion_matrix\n",
        "\n",
        "# Predict on the test set\n",
        "y_pred = best_model_reweighting.predict(X_test)\n",
        "\n",
        "# Get the classification report\n",
        "print(classification_report(y_test, y_pred))\n",
        "\n",
        "import seaborn as sns\n",
        "import matplotlib.pyplot as plt\n",
        "from sklearn.metrics import confusion_matrix\n",
        "import numpy as np\n",
        "\n",
        "cm = confusion_matrix(y_test, y_pred)\n",
        "\n",
        "# Create a heatmap using Seaborn\n",
        "plt.figure(figsize=(10, 7))\n",
        "sns.heatmap(cm, annot=True, fmt='d', cmap='Blues', xticklabels=['Predicted Negative', 'Predicted Positive'], yticklabels=['Actual Negative', 'Actual Positive'])\n",
        "plt.xlabel('Predicted')\n",
        "plt.ylabel('Actual')\n",
        "plt.title('Confusion Matrix')\n",
        "plt.show()\n"
      ]
    },
    {
      "cell_type": "code",
      "execution_count": 138,
      "metadata": {},
      "outputs": [
        {
          "name": "stdout",
          "output_type": "stream",
          "text": [
            "Bias Mitigation Method: Reweighting\n",
            "\n",
            "FAIRNESS METRICS\n",
            "\n",
            "Result dataframe ready.\n",
            "Black Communities: TP: 46.59%, TN: 5.68%, FP: 46.59%, FN: 1.14%\n",
            "Non-Black Communities: TP: 5.48%, TN: 73.58%, FP: 18.79%, FN: 2.15%\n",
            " \n",
            "STATISTICAL PARITY\n",
            "----------\n",
            "Positive class / black communities: 93.18%\n",
            "Positive class / non-black communities: 24.27%\n",
            "Negative class / black communities: 6.82%\n",
            "Negative class / non-black communities: 75.73%\n",
            " \n",
            "Statistical Parity - Overall Metrics\n",
            "  Positive Disparity Ratio: 3.8\n",
            "  Negative Disparity Ratio: 1.1e+01\n",
            " \n",
            "EQUALITY OF OPPORTUNITY\n",
            "----------\n",
            "Positive class / black communities: 97.62%\n",
            "Positive class / non-black communities: 71.79%\n",
            "Negative class / black communities: 10.87%\n",
            "Negative class / non-black communities: 79.66%\n",
            " \n",
            "Equality of Opportunity - Overall Metrics\n",
            "  Positive Disparity Ratio: 1.4\n",
            "  Negative Disparity Ratio: 7.3\n",
            " \n",
            "CALIBRATION\n",
            "----------\n",
            "Positive class / black communities: 50.00%\n",
            "Positive class / non-black communities: 22.58%\n",
            "Negative class / black communities: 83.33%\n",
            "Negative class / non-black communities: 97.16%\n",
            " \n",
            "Calibration - Overall Metrics\n",
            "  Positive Disparity Ratio: 2.2\n",
            "  Negative Disparity Ratio: 1.2\n",
            " \n",
            "FALSE RATE\n",
            "----------\n",
            "Positive class / black communities: 50.00%\n",
            "Positive class / non-black communities: 77.42%\n",
            "Negative class / black communities: 16.67%\n",
            "Negative class / non-black communities: 2.84%\n",
            " \n",
            "False Rate - Overall Metrics\n",
            "  Positive Disparity Ratio: 0.65\n",
            "  Negative Disparity Ratio: 0.17\n",
            " \n",
            "TREATMENT\n",
            "----------\n",
            "Positive class / black communities: 4100.00%\n",
            "Positive class / non-black communities: 872.73%\n",
            "Negative class / black communities: 2.44%\n",
            "Negative class / non-black communities: 11.46%\n",
            " \n",
            "Treatment - Overall Metrics\n",
            "  Positive Disparity Ratio: 4.7\n",
            "  Negative Disparity Ratio: 4.7\n",
            "\n"
          ]
        }
      ],
      "source": [
        "print(\"Bias Mitigation Method: Reweighting\")\n",
        "print(\"\")\n",
        "fairness_metrics(best_model_reweighting, X_test, df)\n",
        "print(\"\")"
      ]
    },
    {
      "cell_type": "markdown",
      "metadata": {},
      "source": [
        "### Custom Loss Function"
      ]
    },
    {
      "cell_type": "code",
      "execution_count": 139,
      "metadata": {},
      "outputs": [
        {
          "name": "stdout",
          "output_type": "stream",
          "text": [
            "Epoch 1/10\n",
            "\u001b[1m22/22\u001b[0m \u001b[32m━━━━━━━━━━━━━━━━━━━━\u001b[0m\u001b[37m\u001b[0m \u001b[1m0s\u001b[0m 533us/step - loss: 0.0381\n",
            "Epoch 2/10\n",
            "\u001b[1m22/22\u001b[0m \u001b[32m━━━━━━━━━━━━━━━━━━━━\u001b[0m\u001b[37m\u001b[0m \u001b[1m0s\u001b[0m 393us/step - loss: 0.0371\n",
            "Epoch 3/10\n",
            "\u001b[1m22/22\u001b[0m \u001b[32m━━━━━━━━━━━━━━━━━━━━\u001b[0m\u001b[37m\u001b[0m \u001b[1m0s\u001b[0m 442us/step - loss: 0.0363\n",
            "Epoch 4/10\n",
            "\u001b[1m22/22\u001b[0m \u001b[32m━━━━━━━━━━━━━━━━━━━━\u001b[0m\u001b[37m\u001b[0m \u001b[1m0s\u001b[0m 386us/step - loss: 0.0357\n",
            "Epoch 5/10\n",
            "\u001b[1m22/22\u001b[0m \u001b[32m━━━━━━━━━━━━━━━━━━━━\u001b[0m\u001b[37m\u001b[0m \u001b[1m0s\u001b[0m 389us/step - loss: 0.0352\n",
            "Epoch 6/10\n",
            "\u001b[1m22/22\u001b[0m \u001b[32m━━━━━━━━━━━━━━━━━━━━\u001b[0m\u001b[37m\u001b[0m \u001b[1m0s\u001b[0m 419us/step - loss: 0.0348\n",
            "Epoch 7/10\n",
            "\u001b[1m22/22\u001b[0m \u001b[32m━━━━━━━━━━━━━━━━━━━━\u001b[0m\u001b[37m\u001b[0m \u001b[1m0s\u001b[0m 393us/step - loss: 0.0345\n",
            "Epoch 8/10\n",
            "\u001b[1m22/22\u001b[0m \u001b[32m━━━━━━━━━━━━━━━━━━━━\u001b[0m\u001b[37m\u001b[0m \u001b[1m0s\u001b[0m 397us/step - loss: 0.0342\n",
            "Epoch 9/10\n",
            "\u001b[1m22/22\u001b[0m \u001b[32m━━━━━━━━━━━━━━━━━━━━\u001b[0m\u001b[37m\u001b[0m \u001b[1m0s\u001b[0m 395us/step - loss: 0.0339\n",
            "Epoch 10/10\n",
            "\u001b[1m22/22\u001b[0m \u001b[32m━━━━━━━━━━━━━━━━━━━━\u001b[0m\u001b[37m\u001b[0m \u001b[1m0s\u001b[0m 401us/step - loss: 0.0337\n",
            "\u001b[1m19/19\u001b[0m \u001b[32m━━━━━━━━━━━━━━━━━━━━\u001b[0m\u001b[37m\u001b[0m \u001b[1m0s\u001b[0m 233us/step - loss: 0.5477\n",
            "\u001b[1m19/19\u001b[0m \u001b[32m━━━━━━━━━━━━━━━━━━━━\u001b[0m\u001b[37m\u001b[0m \u001b[1m0s\u001b[0m 626us/step\n",
            "F1 Score: 0.13043478260869565\n",
            "Accuracy: 0.8664440734557596\n",
            "Precision: 0.5454545454545454\n",
            "Recall: 0.07407407407407407\n"
          ]
        }
      ],
      "source": [
        "import numpy as np\n",
        "import tensorflow as tf\n",
        "from tensorflow.keras.models import Model\n",
        "from tensorflow.keras.layers import Input, Dense\n",
        "from tensorflow.keras.optimizers import Adam\n",
        "from sklearn.model_selection import train_test_split\n",
        "from sklearn.metrics import f1_score\n",
        "\n",
        "# Set random seed for reproducibility\n",
        "np.random.seed(42)\n",
        "tf.random.set_seed(42)\n",
        "tf.keras.utils.set_random_seed(\n",
        "    42\n",
        ")\n",
        "\n",
        "# Prepare the dataset with the selected features\n",
        "X = df[high_correlation_features]\n",
        "y = df['HighCrime']\n",
        "\n",
        "# Split the data into training and test sets\n",
        "X_train, X_test, y_train, y_test, weights_train, weights_test, isBlack_train, isBlack_test = train_test_split(\n",
        "    X, y, df['weights'], df['isBlack'].astype(int), test_size=0.3, random_state=42)\n",
        "\n",
        "# Model architecture\n",
        "input_features = Input(shape=(X_train.shape[1],))\n",
        "output = Dense(1, activation='sigmoid')(input_features)\n",
        "model_custom_loss = Model(inputs=input_features, outputs=output)\n",
        "\n",
        "# Custom loss function with bias penalty\n",
        "def biased_loss(y_true, y_pred, sensitive):\n",
        "    standard_loss = tf.keras.losses.binary_crossentropy(y_true, y_pred)\n",
        "    bias_penalty = tf.reduce_mean(tf.abs(y_pred - tf.cast(sensitive, tf.float32)))  # Simple absolute difference penalty\n",
        "    return standard_loss + 0.1 * bias_penalty  # Adjust penalty weight as necessary\n",
        "\n",
        "# Wrap custom loss function to include sensitive attribute\n",
        "def custom_loss(sensitive):\n",
        "    def loss(y_true, y_pred):\n",
        "        return biased_loss(y_true, y_pred, sensitive)\n",
        "    return loss\n",
        "\n",
        "# Compile model with custom loss\n",
        "model_custom_loss.compile(optimizer=Adam(learning_rate=0.001), loss=custom_loss(isBlack_train))\n",
        "\n",
        "# Train model\n",
        "model_custom_loss.fit(X_train, y_train, batch_size=64, epochs=10, sample_weight=weights_train)\n",
        "\n",
        "# Evaluate model\n",
        "model_custom_loss.evaluate(X_test, y_test)\n",
        "\n",
        "# Get predictions\n",
        "y_pred = (model_custom_loss.predict(X_test) > 0.5).astype(int)\n",
        "\n",
        "# Calculate F1 Score\n",
        "f1 = f1_score(y_test, y_pred)\n",
        "\n",
        "# Calculate F1 Score\n",
        "f1 = f1_score(y_test, y_pred)\n",
        "print(\"F1 Score:\", f1)\n",
        "\n",
        "# Calculate Accuracy\n",
        "accuracy = accuracy_score(y_test, y_pred)\n",
        "print(\"Accuracy:\", accuracy)\n",
        "\n",
        "# Calculate Precision\n",
        "precision = precision_score(y_test, y_pred)\n",
        "print(\"Precision:\", precision)\n",
        "\n",
        "# Calculate Recall\n",
        "recall = recall_score(y_test, y_pred)\n",
        "print(\"Recall:\", recall)"
      ]
    },
    {
      "cell_type": "code",
      "execution_count": 140,
      "metadata": {},
      "outputs": [
        {
          "name": "stdout",
          "output_type": "stream",
          "text": [
            "\u001b[1m19/19\u001b[0m \u001b[32m━━━━━━━━━━━━━━━━━━━━\u001b[0m\u001b[37m\u001b[0m \u001b[1m0s\u001b[0m 212us/step\n"
          ]
        },
        {
          "name": "stdout",
          "output_type": "stream",
          "text": [
            "              precision    recall  f1-score   support\n",
            "\n",
            "       False       0.87      0.99      0.93       518\n",
            "        True       0.55      0.07      0.13        81\n",
            "\n",
            "    accuracy                           0.87       599\n",
            "   macro avg       0.71      0.53      0.53       599\n",
            "weighted avg       0.83      0.87      0.82       599\n",
            "\n"
          ]
        },
        {
          "data": {
            "image/png": "[encoded data removed]",
            "text/plain": [
              "<Figure size 1000x700 with 2 Axes>"
            ]
          },
          "metadata": {},
          "output_type": "display_data"
        }
      ],
      "source": [
        "from sklearn.metrics import classification_report, confusion_matrix\n",
        "\n",
        "# Predict on the test set\n",
        "y_pred = model_custom_loss.predict(X_test) > 0.5\n",
        "# Get the classification report\n",
        "print(classification_report(y_test, y_pred))\n",
        "\n",
        "import seaborn as sns\n",
        "import matplotlib.pyplot as plt\n",
        "from sklearn.metrics import confusion_matrix\n",
        "import numpy as np\n",
        "\n",
        "cm = confusion_matrix(y_test, y_pred)\n",
        "\n",
        "# Create a heatmap using Seaborn\n",
        "plt.figure(figsize=(10, 7))\n",
        "sns.heatmap(cm, annot=True, fmt='d', cmap='Blues', xticklabels=['Predicted Negative', 'Predicted Positive'], yticklabels=['Actual Negative', 'Actual Positive'])\n",
        "plt.xlabel('Predicted')\n",
        "plt.ylabel('Actual')\n",
        "plt.title('Confusion Matrix')\n",
        "plt.show()\n"
      ]
    },
    {
      "cell_type": "code",
      "execution_count": 141,
      "metadata": {},
      "outputs": [
        {
          "name": "stdout",
          "output_type": "stream",
          "text": [
            "Bias Mitigation Method: Reweighting\n",
            "\n",
            "FAIRNESS METRICS\n",
            "\n",
            "\u001b[1m19/19\u001b[0m \u001b[32m━━━━━━━━━━━━━━━━━━━━\u001b[0m\u001b[37m\u001b[0m \u001b[1m0s\u001b[0m 222us/step\n",
            "Result dataframe ready.\n",
            "Black Communities: TP: 3.41%, TN: 52.27%, FP: 0.00%, FN: 44.32%\n",
            "Non-Black Communities: TP: 0.59%, TN: 91.39%, FP: 0.98%, FN: 7.05%\n",
            " \n",
            "STATISTICAL PARITY\n",
            "----------\n",
            "Positive class / black communities: 3.41%\n",
            "Positive class / non-black communities: 1.57%\n",
            "Negative class / black communities: 96.59%\n",
            "Negative class / non-black communities: 98.43%\n",
            " \n",
            "Statistical Parity - Overall Metrics\n",
            "  Positive Disparity Ratio: 2.2\n",
            "  Negative Disparity Ratio: 1.0\n",
            " \n",
            "EQUALITY OF OPPORTUNITY\n",
            "----------\n",
            "Positive class / black communities: 7.14%\n",
            "Positive class / non-black communities: 7.69%\n",
            "Negative class / black communities: 100.00%\n",
            "Negative class / non-black communities: 98.94%\n",
            " \n",
            "Equality of Opportunity - Overall Metrics\n",
            "  Positive Disparity Ratio: 0.93\n",
            "  Negative Disparity Ratio: 0.99\n",
            " \n",
            "CALIBRATION\n",
            "----------\n",
            "Positive class / black communities: 100.00%\n",
            "Positive class / non-black communities: 37.50%\n",
            "Negative class / black communities: 54.12%\n",
            "Negative class / non-black communities: 92.84%\n",
            " \n",
            "Calibration - Overall Metrics\n",
            "  Positive Disparity Ratio: 2.7\n",
            "  Negative Disparity Ratio: 1.7\n",
            " \n",
            "FALSE RATE\n",
            "----------\n",
            "Positive class / black communities: 0.00%\n",
            "Positive class / non-black communities: 62.50%\n",
            "Negative class / black communities: 45.88%\n",
            "Negative class / non-black communities: 7.16%\n",
            " \n",
            "False Rate - Overall Metrics\n",
            "  Positive Disparity Ratio: 0.0\n",
            "  Negative Disparity Ratio: 0.16\n",
            " \n",
            "TREATMENT\n",
            "----------\n",
            "Positive class / black communities: 0.00%\n",
            "Positive class / non-black communities: 13.89%\n",
            "Negative class / black communities: inf%\n",
            "Negative class / non-black communities: 720.00%\n",
            " \n",
            "Treatment - Overall Metrics\n",
            "  Positive Disparity Ratio: 0.0\n",
            "  Negative Disparity Ratio: 0.0\n",
            "\n"
          ]
        },
        {
          "name": "stderr",
          "output_type": "stream",
          "text": [
            "/var/folders/dn/_xfnym210t70p3705v9krtf00000gn/T/ipykernel_32782/2986652886.py:148: RuntimeWarning: divide by zero encountered in scalar divide\n",
            "  print(f\"Negative class / black communities: {fn_black/fp_black:.2%}\")\n",
            "/var/folders/dn/_xfnym210t70p3705v9krtf00000gn/T/ipykernel_32782/2986652886.py:153: RuntimeWarning: divide by zero encountered in scalar divide\n",
            "  negative_black = fn_black/fp_black\n"
          ]
        }
      ],
      "source": [
        "print(\"Bias Mitigation Method: Reweighting\")\n",
        "print(\"\")\n",
        "fairness_metrics(model_custom_loss, X_test, df, custom_loss=True)\n",
        "print(\"\")"
      ]
    },
    {
      "cell_type": "markdown",
      "metadata": {},
      "source": [
        "### Adversarial Debiasing"
      ]
    },
    {
      "cell_type": "code",
      "execution_count": 142,
      "metadata": {},
      "outputs": [
        {
          "name": "stdout",
          "output_type": "stream",
          "text": [
            "Step 0, Loss: [-0.06288773  0.00489104  0.02668554 -0.16672695 -0.08091509 -0.06809455\n",
            "  0.17154354  0.01228487 -0.05877298 -0.07166582 -0.11141205  0.04146856\n",
            " -0.06964731 -0.17157644 -0.0750432  -0.06328207 -0.11935294  0.06350309\n",
            "  0.04529285 -0.04917759 -0.07541037  0.04790789 -0.14224786 -0.09238851\n",
            " -0.06445819  0.0561412  -0.0638364  -0.04399616 -0.00206584  0.02028805\n",
            " -0.06586653 -0.00563741]\n",
            "Step 10, Loss: [-0.0608924  -0.21659583 -0.22240072 -0.26931942 -0.19989097 -0.11743557\n",
            " -0.0905506  -0.12609303 -0.19650966 -0.21906114  0.03117079 -0.23970985\n",
            " -0.25248188 -0.14427704 -0.25603557 -0.22082782 -0.1263501  -0.21256548\n",
            " -0.263003   -0.22117859 -0.05013448 -0.1263501  -0.07913381 -0.26211795\n",
            " -0.19133991 -0.2433312  -0.16832858 -0.22007412 -0.23599291 -0.19784099\n",
            " -0.08728975 -0.19211543]\n",
            "Step 20, Loss: [-0.34018812 -0.33519194 -0.36044505  0.23492867 -0.36922392 -0.37771577\n",
            " -0.165016    0.14683872  0.3203417  -0.23528999 -0.3784031   0.13379467\n",
            " -0.38716215 -0.41110352  0.31787437  0.35143846 -0.3326241  -0.3676272\n",
            " -0.36291605 -0.37681326 -0.29422092 -0.26910233 -0.38352767 -0.31801435\n",
            " -0.3498966  -0.29564163 -0.30519316 -0.3452258  -0.4079161  -0.3735858\n",
            " -0.35827526 -0.40360618]\n",
            "Step 30, Loss: [-0.42449468 -0.43219182 -0.41661388  0.11262214 -0.36751148 -0.46684447\n",
            " -0.3301642  -0.39291328 -0.43161848 -0.4745231  -0.45613652 -0.3994168\n",
            " -0.47154912 -0.49160737 -0.38166016 -0.42383447 -0.41887432 -0.48387715\n",
            " -0.4092228  -0.42622578 -0.2912908  -0.45506847 -0.39606798 -0.4360505\n",
            " -0.38377684 -0.17302147 -0.43891206 -0.46203506 -0.41995797 -0.38305917\n",
            " -0.17906114  0.28928602]\n",
            "Step 40, Loss: [-0.4954883  -0.5077074  -0.5212482  -0.43872565 -0.51436293 -0.45826384\n",
            " -0.5214199  -0.51890206 -0.4443151  -0.39782935 -0.4755444  -0.47473153\n",
            " -0.49834648 -0.4707533   0.22442746 -0.4186917  -0.452781   -0.46847597\n",
            " -0.44237617 -0.4623394  -0.43560204 -0.4830071  -0.53182954 -0.50135213\n",
            " -0.54425824 -0.5402624  -0.5086169  -0.5214199  -0.28004578 -0.47627968\n",
            " -0.49628514 -0.46207625]\n",
            "\u001b[1m19/19\u001b[0m \u001b[32m━━━━━━━━━━━━━━━━━━━━\u001b[0m\u001b[37m\u001b[0m \u001b[1m0s\u001b[0m 270us/step - loss: 0.3392\n",
            "Evaluation results - Loss: 0.34030815958976746\n",
            "\u001b[1m19/19\u001b[0m \u001b[32m━━━━━━━━━━━━━━━━━━━━\u001b[0m\u001b[37m\u001b[0m \u001b[1m0s\u001b[0m 568us/step\n",
            "Accuracy: 0.8647746243739566, AUC: 0.505207588540922\n",
            "F1 Score: 0.024096385542168672\n",
            "F1 Score: 0.024096385542168672\n",
            "Accuracy: 0.8647746243739566\n",
            "Precision: 0.5\n",
            "Recall: 0.012345679012345678\n"
          ]
        }
      ],
      "source": [
        "import numpy as np\n",
        "import tensorflow as tf\n",
        "from tensorflow.keras.models import Model\n",
        "from tensorflow.keras.layers import Input, Dense\n",
        "from tensorflow.keras.optimizers import Adam\n",
        "from sklearn.model_selection import train_test_split\n",
        "from sklearn.metrics import accuracy_score, roc_auc_score\n",
        "\n",
        "# Set random seed for reproducibility\n",
        "np.random.seed(42)\n",
        "tf.random.set_seed(42)\n",
        "tf.keras.utils.set_random_seed(42)\n",
        "\n",
        "# Prepare the dataset with the selected features\n",
        "X = df[high_correlation_features]\n",
        "y = df['HighCrime']\n",
        "sensitive_attr = df['isBlack'].astype(int)  # Assuming 'isBlack' indicates the sensitive attribute\n",
        "\n",
        "# Split the data into training and test sets\n",
        "X_train, X_test, y_train, y_test, sensitive_attr_train, sensitive_attr_test = train_test_split(\n",
        "    X, y, sensitive_attr, test_size=0.3, random_state=42)\n",
        "\n",
        "# Convert DataFrame to TensorFlow tensor\n",
        "X_train, X_test = tf.convert_to_tensor(X_train, dtype=tf.float32), tf.convert_to_tensor(X_test, dtype=tf.float32)\n",
        "y_train, y_test = tf.convert_to_tensor(y_train, dtype=tf.float32), tf.convert_to_tensor(y_test, dtype=tf.float32)\n",
        "sensitive_attr_train, sensitive_attr_test = tf.convert_to_tensor(sensitive_attr_train, dtype=tf.float32), tf.convert_to_tensor(sensitive_attr_test, dtype=tf.float32)\n",
        "\n",
        "# Model architecture for the main model\n",
        "input_features = Input(shape=(X_train.shape[1],))\n",
        "main_model_layer = Dense(10, activation='relu')(input_features)\n",
        "main_model_output = Dense(1, activation='sigmoid', name='main_output')(main_model_layer)\n",
        "model = Model(inputs=input_features, outputs=main_model_output)\n",
        "\n",
        "# Adversary model architecture\n",
        "adversary_input = main_model_output\n",
        "adversary_layer = Dense(10, activation='relu')(adversary_input)\n",
        "adversary_output = Dense(1, activation='sigmoid', name='adversary_output')(adversary_layer)\n",
        "adversary_model = Model(inputs=input_features, outputs=adversary_output)\n",
        "\n",
        "# Optimizers\n",
        "model_optimizer = Adam(learning_rate=0.001)\n",
        "adversary_optimizer = Adam(learning_rate=0.001)\n",
        "\n",
        "# Compile models\n",
        "model.compile(optimizer=model_optimizer, loss='binary_crossentropy')\n",
        "adversary_model.compile(optimizer=adversary_optimizer, loss='binary_crossentropy')\n",
        "\n",
        "# Custom training loop\n",
        "batch_size = 32\n",
        "num_steps = 50  # number of steps to train\n",
        "\n",
        "for step in range(num_steps):\n",
        "    # Sample a batch of data\n",
        "    indices = np.random.randint(0, len(X_train), size=batch_size)\n",
        "    batch_features = tf.gather(X_train, indices)\n",
        "    batch_labels = tf.expand_dims(tf.gather(y_train, indices), axis=-1)  # Expand dimensions\n",
        "    batch_sensitive = tf.expand_dims(tf.gather(sensitive_attr_train, indices), axis=-1)  # Expand dimensions\n",
        "\n",
        "    # Train the main model\n",
        "    with tf.GradientTape() as tape:\n",
        "        predictions = model(batch_features, training=True)\n",
        "        loss = tf.keras.losses.binary_crossentropy(batch_labels, predictions)\n",
        "    grads = tape.gradient(loss, model.trainable_weights)\n",
        "    model_optimizer.apply_gradients(zip(grads, model.trainable_weights))\n",
        "\n",
        "    # Train the adversary\n",
        "    with tf.GradientTape() as tape:\n",
        "        sensitive_predictions = adversary_model(batch_features, training=True)\n",
        "        loss = tf.keras.losses.binary_crossentropy(batch_sensitive, sensitive_predictions)\n",
        "    grads = tape.gradient(loss, adversary_model.trainable_weights)\n",
        "    adversary_optimizer.apply_gradients(zip(grads, adversary_model.trainable_weights))\n",
        "\n",
        "    # Optionally update the main model to deceive the adversary\n",
        "    with tf.GradientTape() as tape:\n",
        "        predictions = model(batch_features, training=True)\n",
        "        sensitive_predictions = adversary_model(batch_features, training=True)\n",
        "        loss = tf.keras.losses.binary_crossentropy(batch_labels, predictions) - \\\n",
        "               tf.keras.losses.binary_crossentropy(batch_sensitive, sensitive_predictions)\n",
        "    grads = tape.gradient(loss, model.trainable_weights)\n",
        "    model_optimizer.apply_gradients(zip(grads, model.trainable_weights))\n",
        "\n",
        "    if step % 10 == 0:\n",
        "        print(f\"Step {step}, Loss: {loss.numpy()}\")\n",
        "\n",
        "# Evaluate model\n",
        "evaluation = model.evaluate(X_test, y_test)\n",
        "print(f\"Evaluation results - Loss: {evaluation}\")\n",
        "\n",
        "# Optionally, calculate additional metrics such as accuracy or AUC\n",
        "y_pred = model.predict(X_test)\n",
        "y_pred = (y_pred > 0.5).astype(int)\n",
        "accuracy = accuracy_score(y_test.numpy().astype(int), y_pred)\n",
        "auc_score = roc_auc_score(y_test.numpy(), y_pred)\n",
        "print(f\"Accuracy: {accuracy}, AUC: {auc_score}\")\n",
        "# Calculate F1 Score\n",
        "f1 = f1_score(y_test, y_pred)\n",
        "print(\"F1 Score:\", f1)\n",
        "\n",
        "# Calculate F1 Score\n",
        "f1 = f1_score(y_test, y_pred)\n",
        "print(\"F1 Score:\", f1)\n",
        "\n",
        "# Calculate Accuracy\n",
        "accuracy = accuracy_score(y_test, y_pred)\n",
        "print(\"Accuracy:\", accuracy)\n",
        "\n",
        "# Calculate Precision\n",
        "precision = precision_score(y_test, y_pred)\n",
        "print(\"Precision:\", precision)\n",
        "\n",
        "# Calculate Recall\n",
        "recall = recall_score(y_test, y_pred)\n",
        "print(\"Recall:\", recall)\n"
      ]
    },
    {
      "cell_type": "code",
      "execution_count": 143,
      "metadata": {},
      "outputs": [
        {
          "name": "stdout",
          "output_type": "stream",
          "text": [
            "\u001b[1m19/19\u001b[0m \u001b[32m━━━━━━━━━━━━━━━━━━━━\u001b[0m\u001b[37m\u001b[0m \u001b[1m0s\u001b[0m 228us/step\n",
            "              precision    recall  f1-score   support\n",
            "\n",
            "         0.0       0.87      1.00      0.93       518\n",
            "         1.0       0.50      0.01      0.02        81\n",
            "\n",
            "    accuracy                           0.86       599\n",
            "   macro avg       0.68      0.51      0.48       599\n",
            "weighted avg       0.82      0.86      0.81       599\n",
            "\n"
          ]
        },
        {
          "data": {
            "image/png": "[encoded data removed]",
            "text/plain": [
              "<Figure size 1000x700 with 2 Axes>"
            ]
          },
          "metadata": {},
          "output_type": "display_data"
        }
      ],
      "source": [
        "from sklearn.metrics import classification_report, confusion_matrix\n",
        "\n",
        "# Predict on the test set\n",
        "y_pred = model.predict(X_test)\n",
        "y_pred = (y_pred > 0.5).astype(int)\n",
        "\n",
        "# Get the classification report\n",
        "print(classification_report(y_test, y_pred))\n",
        "\n",
        "import seaborn as sns\n",
        "import matplotlib.pyplot as plt\n",
        "from sklearn.metrics import confusion_matrix\n",
        "import numpy as np\n",
        "\n",
        "cm = confusion_matrix(y_test, y_pred)\n",
        "\n",
        "# Create a heatmap using Seaborn\n",
        "plt.figure(figsize=(10, 7))\n",
        "sns.heatmap(cm, annot=True, fmt='d', cmap='Blues', xticklabels=['Predicted Negative', 'Predicted Positive'], yticklabels=['Actual Negative', 'Actual Positive'])\n",
        "plt.xlabel('Predicted')\n",
        "plt.ylabel('Actual')\n",
        "plt.title('Confusion Matrix')\n",
        "plt.show()\n"
      ]
    },
    {
      "cell_type": "code",
      "execution_count": 144,
      "metadata": {},
      "outputs": [
        {
          "name": "stdout",
          "output_type": "stream",
          "text": [
            "Bias Mitigation Method: Reweighting\n",
            "\n",
            "FAIRNESS METRICS\n",
            "\n",
            "   pctWInvInc  pctWPubAsst  PctPopUnderPov  PctUnemployed  TotalPctDiv  \\\n",
            "0        0.54         0.34            0.17           0.29         0.62   \n",
            "1        0.64         0.17            0.13           0.39         0.19   \n",
            "2        0.40         0.13            0.10           0.22         0.40   \n",
            "3        0.45         0.26            0.13           0.29         0.38   \n",
            "4        1.00         0.12            0.02           0.12         0.27   \n",
            "\n",
            "   PctFam2Par  PctKids2Par  PctYoungKids2Par  PctTeen2Par  PctIlleg  \\\n",
            "0        0.65         0.68              0.72         0.55      0.14   \n",
            "1        0.87         0.87              0.90         0.85      0.05   \n",
            "2        0.71         0.71              0.78         0.65      0.20   \n",
            "3        0.73         0.77              0.80         0.77      0.11   \n",
            "4        0.94         0.94              0.87         0.79      0.01   \n",
            "\n",
            "   PctPersOwnOccup  \n",
            "0             0.60  \n",
            "1             0.90  \n",
            "2             0.65  \n",
            "3             0.78  \n",
            "4             0.90  \n",
            "\u001b[1m19/19\u001b[0m \u001b[32m━━━━━━━━━━━━━━━━━━━━\u001b[0m\u001b[37m\u001b[0m \u001b[1m0s\u001b[0m 227us/step\n",
            "Mistmatch when joining dataframes!\n",
            "Result dataframe ready.\n",
            "Black Communities: TP: 0.00%, TN: 87.65%, FP: 0.00%, FN: 12.35%\n",
            "Non-Black Communities: TP: 0.19%, TN: 86.10%, FP: 0.19%, FN: 13.51%\n",
            " \n",
            "STATISTICAL PARITY\n",
            "----------\n",
            "Positive class / black communities: 0.00%\n",
            "Positive class / non-black communities: 0.39%\n",
            "Negative class / black communities: 100.00%\n",
            "Negative class / non-black communities: 99.61%\n",
            " \n",
            "Statistical Parity - Overall Metrics\n",
            "  Positive Disparity Ratio: 0.0\n",
            "  Negative Disparity Ratio: 1.0\n",
            " \n",
            "EQUALITY OF OPPORTUNITY\n",
            "----------\n",
            "Positive class / black communities: 0.00%\n",
            "Positive class / non-black communities: 1.41%\n",
            "Negative class / black communities: 100.00%\n",
            "Negative class / non-black communities: 99.78%\n",
            " \n",
            "Equality of Opportunity - Overall Metrics\n",
            "  Positive Disparity Ratio: 0.0\n",
            "  Negative Disparity Ratio: 1.0\n",
            " \n",
            "CALIBRATION\n",
            "----------\n",
            "Positive class / black communities: nan%\n",
            "Positive class / non-black communities: 50.00%\n",
            "Negative class / black communities: 87.65%\n",
            "Negative class / non-black communities: 86.43%\n",
            " \n",
            "Calibration - Overall Metrics\n",
            "  Positive Disparity Ratio: nan\n",
            "  Negative Disparity Ratio: 0.99\n",
            " \n",
            "FALSE RATE\n",
            "----------\n",
            "Positive class / black communities: nan%\n",
            "Positive class / non-black communities: 50.00%\n",
            "Negative class / black communities: 12.35%\n",
            "Negative class / non-black communities: 13.57%\n",
            " \n",
            "False Rate - Overall Metrics\n",
            "  Positive Disparity Ratio: nan\n",
            "  Negative Disparity Ratio: 1.1\n",
            " \n",
            "TREATMENT\n",
            "----------\n",
            "Positive class / black communities: 0.00%\n",
            "Positive class / non-black communities: 1.43%\n",
            "Negative class / black communities: inf%\n",
            "Negative class / non-black communities: 7000.00%\n",
            " \n",
            "Treatment - Overall Metrics\n",
            "  Positive Disparity Ratio: 0.0\n",
            "  Negative Disparity Ratio: 0.0\n",
            "\n"
          ]
        },
        {
          "name": "stderr",
          "output_type": "stream",
          "text": [
            "/var/folders/dn/_xfnym210t70p3705v9krtf00000gn/T/ipykernel_32782/2986652886.py:90: RuntimeWarning: invalid value encountered in scalar divide\n",
            "  print(f\"Positive class / black communities: {tp_black/(tp_black + fp_black):.2%}\")\n",
            "/var/folders/dn/_xfnym210t70p3705v9krtf00000gn/T/ipykernel_32782/2986652886.py:95: RuntimeWarning: invalid value encountered in scalar divide\n",
            "  positive_black = tp_black/(tp_black + fp_black)\n",
            "/var/folders/dn/_xfnym210t70p3705v9krtf00000gn/T/ipykernel_32782/2986652886.py:118: RuntimeWarning: invalid value encountered in scalar divide\n",
            "  print(f\"Positive class / black communities: {fp_black/(tp_black + fp_black):.2%}\")\n",
            "/var/folders/dn/_xfnym210t70p3705v9krtf00000gn/T/ipykernel_32782/2986652886.py:123: RuntimeWarning: invalid value encountered in scalar divide\n",
            "  positive_black = fp_black/(tp_black + fp_black)\n",
            "/var/folders/dn/_xfnym210t70p3705v9krtf00000gn/T/ipykernel_32782/2986652886.py:148: RuntimeWarning: divide by zero encountered in scalar divide\n",
            "  print(f\"Negative class / black communities: {fn_black/fp_black:.2%}\")\n",
            "/var/folders/dn/_xfnym210t70p3705v9krtf00000gn/T/ipykernel_32782/2986652886.py:153: RuntimeWarning: divide by zero encountered in scalar divide\n",
            "  negative_black = fn_black/fp_black\n"
          ]
        }
      ],
      "source": [
        "print(\"Bias Mitigation Method: Reweighting\")\n",
        "print(\"\")\n",
        "fairness_metrics(model, X_test, df, adversarial=True)\n",
        "print(\"\")"
      ]
    }
  ],
  "metadata": {
    "colab": {
      "provenance": [],
      "toc_visible": true
    },
    "kernelspec": {
      "display_name": "Python 3",
      "name": "python3"
    },
    "language_info": {
      "codemirror_mode": {
        "name": "ipython",
        "version": 3
      },
      "file_extension": ".py",
      "mimetype": "text/x-python",
      "name": "python",
      "nbconvert_exporter": "python",
      "pygments_lexer": "ipython3",
      "version": "3.11.7"
    }
  },
  "nbformat": 4,
  "nbformat_minor": 0
}
